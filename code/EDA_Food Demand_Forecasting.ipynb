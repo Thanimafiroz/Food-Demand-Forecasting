{
 "cells": [
  {
   "cell_type": "code",
   "execution_count": 1,
   "metadata": {},
   "outputs": [],
   "source": [
    "import pandas as pd\n",
    "import numpy as np\n",
    "pd.set_option('display.max_columns', None)  \n",
    "import matplotlib.pyplot as plt\n",
    "import matplotlib.patches as mpatches\n",
    "%matplotlib inline \n",
    "import seaborn as sns\n",
    "import plotly.io as pio\n",
    "import plotly.graph_objects as go\n",
    "from plotly.offline import init_notebook_mode, iplot\n",
    "from sklearn.preprocessing import StandardScaler\n",
    "import warnings\n",
    "warnings.filterwarnings('ignore')"
   ]
  },
  {
   "cell_type": "code",
   "execution_count": 2,
   "metadata": {},
   "outputs": [],
   "source": [
    "df_fulfil_center=pd.read_csv(r'C:/Users/matebook x/Desktop/MTN/Food Demand Forecasting/fulfilment_center_info.csv')\n",
    "df_meal=pd.read_csv(r'C:/Users/matebook x/Desktop/MTN/Food Demand Forecasting/meal_info.csv')\n",
    "df_sample=pd.read_csv(r'C:/Users/matebook x/Desktop/MTN/Food Demand Forecasting/sample_submission.csv')\n",
    "df_test=pd.read_csv(r'C:/Users/matebook x/Desktop/MTN/Food Demand Forecasting/test.csv')\n",
    "df_train=pd.read_csv(r'C:/Users/matebook x/Desktop/MTN/Food Demand Forecasting/train.csv')"
   ]
  },
  {
   "cell_type": "code",
   "execution_count": 3,
   "metadata": {},
   "outputs": [
    {
     "name": "stdout",
     "output_type": "stream",
     "text": [
      "The Shape of Demand dataset : (456548, 9)\n",
      "The Shape of Fulmilment Center Information dataset : (77, 5)\n",
      "The Shape of Meal information dataset : (51, 3)\n",
      "The Shape of Test dataset : (32573, 8)\n",
      "The Shape of Sample dataset : (32573, 2)\n"
     ]
    }
   ],
   "source": [
    "print(\"The Shape of Demand dataset :\",df_train.shape)\n",
    "print(\"The Shape of Fulmilment Center Information dataset :\",df_fulfil_center.shape)\n",
    "print(\"The Shape of Meal information dataset :\",df_meal.shape)\n",
    "print(\"The Shape of Test dataset :\",df_test.shape)\n",
    "print(\"The Shape of Sample dataset :\",df_sample.shape)"
   ]
  },
  {
   "cell_type": "markdown",
   "metadata": {},
   "source": [
    "## Analysing Fullfillment center Information"
   ]
  },
  {
   "cell_type": "code",
   "execution_count": 4,
   "metadata": {},
   "outputs": [
    {
     "data": {
      "text/html": [
       "<div>\n",
       "<style scoped>\n",
       "    .dataframe tbody tr th:only-of-type {\n",
       "        vertical-align: middle;\n",
       "    }\n",
       "\n",
       "    .dataframe tbody tr th {\n",
       "        vertical-align: top;\n",
       "    }\n",
       "\n",
       "    .dataframe thead th {\n",
       "        text-align: right;\n",
       "    }\n",
       "</style>\n",
       "<table border=\"1\" class=\"dataframe\">\n",
       "  <thead>\n",
       "    <tr style=\"text-align: right;\">\n",
       "      <th></th>\n",
       "      <th>center_id</th>\n",
       "      <th>city_code</th>\n",
       "      <th>region_code</th>\n",
       "      <th>center_type</th>\n",
       "      <th>op_area</th>\n",
       "    </tr>\n",
       "  </thead>\n",
       "  <tbody>\n",
       "    <tr>\n",
       "      <th>0</th>\n",
       "      <td>11</td>\n",
       "      <td>679</td>\n",
       "      <td>56</td>\n",
       "      <td>TYPE_A</td>\n",
       "      <td>3.7</td>\n",
       "    </tr>\n",
       "    <tr>\n",
       "      <th>1</th>\n",
       "      <td>13</td>\n",
       "      <td>590</td>\n",
       "      <td>56</td>\n",
       "      <td>TYPE_B</td>\n",
       "      <td>6.7</td>\n",
       "    </tr>\n",
       "    <tr>\n",
       "      <th>2</th>\n",
       "      <td>124</td>\n",
       "      <td>590</td>\n",
       "      <td>56</td>\n",
       "      <td>TYPE_C</td>\n",
       "      <td>4.0</td>\n",
       "    </tr>\n",
       "    <tr>\n",
       "      <th>3</th>\n",
       "      <td>66</td>\n",
       "      <td>648</td>\n",
       "      <td>34</td>\n",
       "      <td>TYPE_A</td>\n",
       "      <td>4.1</td>\n",
       "    </tr>\n",
       "    <tr>\n",
       "      <th>4</th>\n",
       "      <td>94</td>\n",
       "      <td>632</td>\n",
       "      <td>34</td>\n",
       "      <td>TYPE_C</td>\n",
       "      <td>3.6</td>\n",
       "    </tr>\n",
       "  </tbody>\n",
       "</table>\n",
       "</div>"
      ],
      "text/plain": [
       "   center_id  city_code  region_code center_type  op_area\n",
       "0         11        679           56      TYPE_A      3.7\n",
       "1         13        590           56      TYPE_B      6.7\n",
       "2        124        590           56      TYPE_C      4.0\n",
       "3         66        648           34      TYPE_A      4.1\n",
       "4         94        632           34      TYPE_C      3.6"
      ]
     },
     "execution_count": 4,
     "metadata": {},
     "output_type": "execute_result"
    }
   ],
   "source": [
    "df_fulfil_center.head()"
   ]
  },
  {
   "attachments": {},
   "cell_type": "markdown",
   "metadata": {},
   "source": [
    "Columns in Fullfillment Center dataset"
   ]
  },
  {
   "cell_type": "code",
   "execution_count": 5,
   "metadata": {},
   "outputs": [
    {
     "data": {
      "text/plain": [
       "Index(['center_id', 'city_code', 'region_code', 'center_type', 'op_area'], dtype='object')"
      ]
     },
     "execution_count": 5,
     "metadata": {},
     "output_type": "execute_result"
    }
   ],
   "source": [
    "df_fulfil_center.columns"
   ]
  },
  {
   "attachments": {},
   "cell_type": "markdown",
   "metadata": {},
   "source": [
    "Summary of Fullfillment Center dataset"
   ]
  },
  {
   "attachments": {},
   "cell_type": "markdown",
   "metadata": {},
   "source": [
    "df_fulfil_center.info()"
   ]
  },
  {
   "cell_type": "code",
   "execution_count": 6,
   "metadata": {},
   "outputs": [
    {
     "name": "stdout",
     "output_type": "stream",
     "text": [
      "<class 'pandas.core.frame.DataFrame'>\n",
      "RangeIndex: 77 entries, 0 to 76\n",
      "Data columns (total 5 columns):\n",
      " #   Column       Non-Null Count  Dtype  \n",
      "---  ------       --------------  -----  \n",
      " 0   center_id    77 non-null     int64  \n",
      " 1   city_code    77 non-null     int64  \n",
      " 2   region_code  77 non-null     int64  \n",
      " 3   center_type  77 non-null     object \n",
      " 4   op_area      77 non-null     float64\n",
      "dtypes: float64(1), int64(3), object(1)\n",
      "memory usage: 3.1+ KB\n"
     ]
    }
   ],
   "source": [
    "df_fulfil_center.info()"
   ]
  },
  {
   "attachments": {},
   "cell_type": "markdown",
   "metadata": {},
   "source": [
    "Analysing City_code,region_code and centre_type column"
   ]
  },
  {
   "cell_type": "code",
   "execution_count": 7,
   "metadata": {},
   "outputs": [
    {
     "data": {
      "text/plain": [
       "590    9\n",
       "526    8\n",
       "638    3\n",
       "647    2\n",
       "614    2\n",
       "676    2\n",
       "604    2\n",
       "522    2\n",
       "576    2\n",
       "699    2\n",
       "593    2\n",
       "517    2\n",
       "651    1\n",
       "456    1\n",
       "695    1\n",
       "602    1\n",
       "700    1\n",
       "703    1\n",
       "679    1\n",
       "485    1\n",
       "685    1\n",
       "577    1\n",
       "461    1\n",
       "702    1\n",
       "615    1\n",
       "599    1\n",
       "579    1\n",
       "609    1\n",
       "658    1\n",
       "683    1\n",
       "675    1\n",
       "541    1\n",
       "659    1\n",
       "648    1\n",
       "632    1\n",
       "553    1\n",
       "693    1\n",
       "562    1\n",
       "478    1\n",
       "713    1\n",
       "654    1\n",
       "515    1\n",
       "698    1\n",
       "628    1\n",
       "680    1\n",
       "620    1\n",
       "649    1\n",
       "596    1\n",
       "473    1\n",
       "556    1\n",
       "561    1\n",
       "Name: city_code, dtype: int64"
      ]
     },
     "execution_count": 7,
     "metadata": {},
     "output_type": "execute_result"
    }
   ],
   "source": [
    "df_fulfil_center.city_code.value_counts()"
   ]
  },
  {
   "cell_type": "code",
   "execution_count": 8,
   "metadata": {},
   "outputs": [
    {
     "data": {
      "text/plain": [
       "56    30\n",
       "34    21\n",
       "77    17\n",
       "85     5\n",
       "23     1\n",
       "71     1\n",
       "35     1\n",
       "93     1\n",
       "Name: region_code, dtype: int64"
      ]
     },
     "execution_count": 8,
     "metadata": {},
     "output_type": "execute_result"
    }
   ],
   "source": [
    "df_fulfil_center.region_code.value_counts()"
   ]
  },
  {
   "cell_type": "code",
   "execution_count": 9,
   "metadata": {},
   "outputs": [
    {
     "data": {
      "text/plain": [
       "TYPE_A    43\n",
       "TYPE_C    19\n",
       "TYPE_B    15\n",
       "Name: center_type, dtype: int64"
      ]
     },
     "execution_count": 9,
     "metadata": {},
     "output_type": "execute_result"
    }
   ],
   "source": [
    "df_fulfil_center.center_type.value_counts()"
   ]
  },
  {
   "attachments": {},
   "cell_type": "markdown",
   "metadata": {},
   "source": [
    "Checking the values in Operating area column"
   ]
  },
  {
   "cell_type": "code",
   "execution_count": 10,
   "metadata": {},
   "outputs": [
    {
     "data": {
      "text/plain": [
       "count    77.000000\n",
       "mean      3.985714\n",
       "std       1.106406\n",
       "min       0.900000\n",
       "25%       3.500000\n",
       "50%       3.900000\n",
       "75%       4.400000\n",
       "max       7.000000\n",
       "Name: op_area, dtype: float64"
      ]
     },
     "execution_count": 10,
     "metadata": {},
     "output_type": "execute_result"
    }
   ],
   "source": [
    "df_fulfil_center.op_area.describe()"
   ]
  },
  {
   "attachments": {},
   "cell_type": "markdown",
   "metadata": {},
   "source": [
    "checking null values if any"
   ]
  },
  {
   "cell_type": "code",
   "execution_count": 11,
   "metadata": {},
   "outputs": [
    {
     "data": {
      "text/plain": [
       "center_id      0\n",
       "city_code      0\n",
       "region_code    0\n",
       "center_type    0\n",
       "op_area        0\n",
       "dtype: int64"
      ]
     },
     "execution_count": 11,
     "metadata": {},
     "output_type": "execute_result"
    }
   ],
   "source": [
    "df_fulfil_center.isnull().sum()"
   ]
  },
  {
   "attachments": {},
   "cell_type": "markdown",
   "metadata": {},
   "source": [
    "Fulfilment Center Information is cleaned and no further data cleaning is required."
   ]
  },
  {
   "attachments": {},
   "cell_type": "markdown",
   "metadata": {},
   "source": [
    "## Analysing Meal Information"
   ]
  },
  {
   "cell_type": "code",
   "execution_count": 12,
   "metadata": {},
   "outputs": [
    {
     "data": {
      "text/html": [
       "<div>\n",
       "<style scoped>\n",
       "    .dataframe tbody tr th:only-of-type {\n",
       "        vertical-align: middle;\n",
       "    }\n",
       "\n",
       "    .dataframe tbody tr th {\n",
       "        vertical-align: top;\n",
       "    }\n",
       "\n",
       "    .dataframe thead th {\n",
       "        text-align: right;\n",
       "    }\n",
       "</style>\n",
       "<table border=\"1\" class=\"dataframe\">\n",
       "  <thead>\n",
       "    <tr style=\"text-align: right;\">\n",
       "      <th></th>\n",
       "      <th>meal_id</th>\n",
       "      <th>category</th>\n",
       "      <th>cuisine</th>\n",
       "    </tr>\n",
       "  </thead>\n",
       "  <tbody>\n",
       "    <tr>\n",
       "      <th>0</th>\n",
       "      <td>1885</td>\n",
       "      <td>Beverages</td>\n",
       "      <td>Thai</td>\n",
       "    </tr>\n",
       "    <tr>\n",
       "      <th>1</th>\n",
       "      <td>1993</td>\n",
       "      <td>Beverages</td>\n",
       "      <td>Thai</td>\n",
       "    </tr>\n",
       "    <tr>\n",
       "      <th>2</th>\n",
       "      <td>2539</td>\n",
       "      <td>Beverages</td>\n",
       "      <td>Thai</td>\n",
       "    </tr>\n",
       "    <tr>\n",
       "      <th>3</th>\n",
       "      <td>1248</td>\n",
       "      <td>Beverages</td>\n",
       "      <td>Indian</td>\n",
       "    </tr>\n",
       "    <tr>\n",
       "      <th>4</th>\n",
       "      <td>2631</td>\n",
       "      <td>Beverages</td>\n",
       "      <td>Indian</td>\n",
       "    </tr>\n",
       "  </tbody>\n",
       "</table>\n",
       "</div>"
      ],
      "text/plain": [
       "   meal_id   category cuisine\n",
       "0     1885  Beverages    Thai\n",
       "1     1993  Beverages    Thai\n",
       "2     2539  Beverages    Thai\n",
       "3     1248  Beverages  Indian\n",
       "4     2631  Beverages  Indian"
      ]
     },
     "execution_count": 12,
     "metadata": {},
     "output_type": "execute_result"
    }
   ],
   "source": [
    "df_meal.head()"
   ]
  },
  {
   "attachments": {},
   "cell_type": "markdown",
   "metadata": {},
   "source": [
    "Meal Information Summary"
   ]
  },
  {
   "cell_type": "code",
   "execution_count": 13,
   "metadata": {},
   "outputs": [
    {
     "name": "stdout",
     "output_type": "stream",
     "text": [
      "<class 'pandas.core.frame.DataFrame'>\n",
      "RangeIndex: 51 entries, 0 to 50\n",
      "Data columns (total 3 columns):\n",
      " #   Column    Non-Null Count  Dtype \n",
      "---  ------    --------------  ----- \n",
      " 0   meal_id   51 non-null     int64 \n",
      " 1   category  51 non-null     object\n",
      " 2   cuisine   51 non-null     object\n",
      "dtypes: int64(1), object(2)\n",
      "memory usage: 1.3+ KB\n"
     ]
    }
   ],
   "source": [
    "df_meal.info()"
   ]
  },
  {
   "attachments": {},
   "cell_type": "markdown",
   "metadata": {},
   "source": [
    "Analysing the values in category and cuisine column"
   ]
  },
  {
   "cell_type": "code",
   "execution_count": 14,
   "metadata": {},
   "outputs": [
    {
     "data": {
      "text/plain": [
       "Beverages       12\n",
       "Extras           3\n",
       "Soup             3\n",
       "Other Snacks     3\n",
       "Salad            3\n",
       "Rice Bowl        3\n",
       "Starters         3\n",
       "Sandwich         3\n",
       "Pasta            3\n",
       "Desert           3\n",
       "Biryani          3\n",
       "Pizza            3\n",
       "Fish             3\n",
       "Seafood          3\n",
       "Name: category, dtype: int64"
      ]
     },
     "execution_count": 14,
     "metadata": {},
     "output_type": "execute_result"
    }
   ],
   "source": [
    "df_meal.category.value_counts()"
   ]
  },
  {
   "cell_type": "code",
   "execution_count": 15,
   "metadata": {},
   "outputs": [
    {
     "data": {
      "text/plain": [
       "Thai           15\n",
       "Indian         12\n",
       "Italian        12\n",
       "Continental    12\n",
       "Name: cuisine, dtype: int64"
      ]
     },
     "execution_count": 15,
     "metadata": {},
     "output_type": "execute_result"
    }
   ],
   "source": [
    "df_meal.cuisine.value_counts()"
   ]
  },
  {
   "attachments": {},
   "cell_type": "markdown",
   "metadata": {},
   "source": [
    "checking null values if any"
   ]
  },
  {
   "cell_type": "code",
   "execution_count": 16,
   "metadata": {},
   "outputs": [
    {
     "data": {
      "text/plain": [
       "meal_id     0\n",
       "category    0\n",
       "cuisine     0\n",
       "dtype: int64"
      ]
     },
     "execution_count": 16,
     "metadata": {},
     "output_type": "execute_result"
    }
   ],
   "source": [
    "df_meal.isnull().sum()"
   ]
  },
  {
   "attachments": {},
   "cell_type": "markdown",
   "metadata": {},
   "source": [
    "Meal Information is cleaned and no further data cleaning is required."
   ]
  },
  {
   "cell_type": "code",
   "execution_count": 17,
   "metadata": {},
   "outputs": [
    {
     "data": {
      "text/html": [
       "<div>\n",
       "<style scoped>\n",
       "    .dataframe tbody tr th:only-of-type {\n",
       "        vertical-align: middle;\n",
       "    }\n",
       "\n",
       "    .dataframe tbody tr th {\n",
       "        vertical-align: top;\n",
       "    }\n",
       "\n",
       "    .dataframe thead th {\n",
       "        text-align: right;\n",
       "    }\n",
       "</style>\n",
       "<table border=\"1\" class=\"dataframe\">\n",
       "  <thead>\n",
       "    <tr style=\"text-align: right;\">\n",
       "      <th></th>\n",
       "      <th>id</th>\n",
       "      <th>num_orders</th>\n",
       "    </tr>\n",
       "  </thead>\n",
       "  <tbody>\n",
       "    <tr>\n",
       "      <th>0</th>\n",
       "      <td>1028232</td>\n",
       "      <td>0</td>\n",
       "    </tr>\n",
       "    <tr>\n",
       "      <th>1</th>\n",
       "      <td>1127204</td>\n",
       "      <td>0</td>\n",
       "    </tr>\n",
       "    <tr>\n",
       "      <th>2</th>\n",
       "      <td>1212707</td>\n",
       "      <td>0</td>\n",
       "    </tr>\n",
       "    <tr>\n",
       "      <th>3</th>\n",
       "      <td>1082698</td>\n",
       "      <td>0</td>\n",
       "    </tr>\n",
       "    <tr>\n",
       "      <th>4</th>\n",
       "      <td>1400926</td>\n",
       "      <td>0</td>\n",
       "    </tr>\n",
       "  </tbody>\n",
       "</table>\n",
       "</div>"
      ],
      "text/plain": [
       "        id  num_orders\n",
       "0  1028232           0\n",
       "1  1127204           0\n",
       "2  1212707           0\n",
       "3  1082698           0\n",
       "4  1400926           0"
      ]
     },
     "execution_count": 17,
     "metadata": {},
     "output_type": "execute_result"
    }
   ],
   "source": [
    "df_sample.head()"
   ]
  },
  {
   "attachments": {},
   "cell_type": "markdown",
   "metadata": {},
   "source": [
    "## Analysing Training Data"
   ]
  },
  {
   "cell_type": "code",
   "execution_count": 18,
   "metadata": {},
   "outputs": [
    {
     "data": {
      "text/html": [
       "<div>\n",
       "<style scoped>\n",
       "    .dataframe tbody tr th:only-of-type {\n",
       "        vertical-align: middle;\n",
       "    }\n",
       "\n",
       "    .dataframe tbody tr th {\n",
       "        vertical-align: top;\n",
       "    }\n",
       "\n",
       "    .dataframe thead th {\n",
       "        text-align: right;\n",
       "    }\n",
       "</style>\n",
       "<table border=\"1\" class=\"dataframe\">\n",
       "  <thead>\n",
       "    <tr style=\"text-align: right;\">\n",
       "      <th></th>\n",
       "      <th>id</th>\n",
       "      <th>week</th>\n",
       "      <th>center_id</th>\n",
       "      <th>meal_id</th>\n",
       "      <th>checkout_price</th>\n",
       "      <th>base_price</th>\n",
       "      <th>emailer_for_promotion</th>\n",
       "      <th>homepage_featured</th>\n",
       "      <th>num_orders</th>\n",
       "    </tr>\n",
       "  </thead>\n",
       "  <tbody>\n",
       "    <tr>\n",
       "      <th>0</th>\n",
       "      <td>1379560</td>\n",
       "      <td>1</td>\n",
       "      <td>55</td>\n",
       "      <td>1885</td>\n",
       "      <td>136.83</td>\n",
       "      <td>152.29</td>\n",
       "      <td>0</td>\n",
       "      <td>0</td>\n",
       "      <td>177</td>\n",
       "    </tr>\n",
       "    <tr>\n",
       "      <th>1</th>\n",
       "      <td>1466964</td>\n",
       "      <td>1</td>\n",
       "      <td>55</td>\n",
       "      <td>1993</td>\n",
       "      <td>136.83</td>\n",
       "      <td>135.83</td>\n",
       "      <td>0</td>\n",
       "      <td>0</td>\n",
       "      <td>270</td>\n",
       "    </tr>\n",
       "    <tr>\n",
       "      <th>2</th>\n",
       "      <td>1346989</td>\n",
       "      <td>1</td>\n",
       "      <td>55</td>\n",
       "      <td>2539</td>\n",
       "      <td>134.86</td>\n",
       "      <td>135.86</td>\n",
       "      <td>0</td>\n",
       "      <td>0</td>\n",
       "      <td>189</td>\n",
       "    </tr>\n",
       "    <tr>\n",
       "      <th>3</th>\n",
       "      <td>1338232</td>\n",
       "      <td>1</td>\n",
       "      <td>55</td>\n",
       "      <td>2139</td>\n",
       "      <td>339.50</td>\n",
       "      <td>437.53</td>\n",
       "      <td>0</td>\n",
       "      <td>0</td>\n",
       "      <td>54</td>\n",
       "    </tr>\n",
       "    <tr>\n",
       "      <th>4</th>\n",
       "      <td>1448490</td>\n",
       "      <td>1</td>\n",
       "      <td>55</td>\n",
       "      <td>2631</td>\n",
       "      <td>243.50</td>\n",
       "      <td>242.50</td>\n",
       "      <td>0</td>\n",
       "      <td>0</td>\n",
       "      <td>40</td>\n",
       "    </tr>\n",
       "  </tbody>\n",
       "</table>\n",
       "</div>"
      ],
      "text/plain": [
       "        id  week  center_id  meal_id  checkout_price  base_price  \\\n",
       "0  1379560     1         55     1885          136.83      152.29   \n",
       "1  1466964     1         55     1993          136.83      135.83   \n",
       "2  1346989     1         55     2539          134.86      135.86   \n",
       "3  1338232     1         55     2139          339.50      437.53   \n",
       "4  1448490     1         55     2631          243.50      242.50   \n",
       "\n",
       "   emailer_for_promotion  homepage_featured  num_orders  \n",
       "0                      0                  0         177  \n",
       "1                      0                  0         270  \n",
       "2                      0                  0         189  \n",
       "3                      0                  0          54  \n",
       "4                      0                  0          40  "
      ]
     },
     "execution_count": 18,
     "metadata": {},
     "output_type": "execute_result"
    }
   ],
   "source": [
    "df_train.head()"
   ]
  },
  {
   "attachments": {},
   "cell_type": "markdown",
   "metadata": {},
   "source": [
    "Summary of Training data"
   ]
  },
  {
   "cell_type": "code",
   "execution_count": 19,
   "metadata": {},
   "outputs": [
    {
     "name": "stdout",
     "output_type": "stream",
     "text": [
      "<class 'pandas.core.frame.DataFrame'>\n",
      "RangeIndex: 456548 entries, 0 to 456547\n",
      "Data columns (total 9 columns):\n",
      " #   Column                 Non-Null Count   Dtype  \n",
      "---  ------                 --------------   -----  \n",
      " 0   id                     456548 non-null  int64  \n",
      " 1   week                   456548 non-null  int64  \n",
      " 2   center_id              456548 non-null  int64  \n",
      " 3   meal_id                456548 non-null  int64  \n",
      " 4   checkout_price         456548 non-null  float64\n",
      " 5   base_price             456548 non-null  float64\n",
      " 6   emailer_for_promotion  456548 non-null  int64  \n",
      " 7   homepage_featured      456548 non-null  int64  \n",
      " 8   num_orders             456548 non-null  int64  \n",
      "dtypes: float64(2), int64(7)\n",
      "memory usage: 31.3 MB\n"
     ]
    }
   ],
   "source": [
    "df_train.info()"
   ]
  },
  {
   "attachments": {},
   "cell_type": "markdown",
   "metadata": {},
   "source": [
    "Checking null values if any"
   ]
  },
  {
   "cell_type": "code",
   "execution_count": 20,
   "metadata": {},
   "outputs": [
    {
     "data": {
      "text/plain": [
       "id                       0\n",
       "week                     0\n",
       "center_id                0\n",
       "meal_id                  0\n",
       "checkout_price           0\n",
       "base_price               0\n",
       "emailer_for_promotion    0\n",
       "homepage_featured        0\n",
       "num_orders               0\n",
       "dtype: int64"
      ]
     },
     "execution_count": 20,
     "metadata": {},
     "output_type": "execute_result"
    }
   ],
   "source": [
    "df_train.isnull().sum()"
   ]
  },
  {
   "attachments": {},
   "cell_type": "markdown",
   "metadata": {},
   "source": [
    "Checking the week column"
   ]
  },
  {
   "cell_type": "code",
   "execution_count": 21,
   "metadata": {},
   "outputs": [
    {
     "data": {
      "text/plain": [
       "122    3359\n",
       "105    3348\n",
       "106    3347\n",
       "140    3332\n",
       "123    3331\n",
       "       ... \n",
       "13     2838\n",
       "12     2831\n",
       "14     2830\n",
       "7      2795\n",
       "8      2786\n",
       "Name: week, Length: 145, dtype: int64"
      ]
     },
     "execution_count": 21,
     "metadata": {},
     "output_type": "execute_result"
    }
   ],
   "source": [
    "df_train.week.value_counts()"
   ]
  },
  {
   "attachments": {},
   "cell_type": "markdown",
   "metadata": {},
   "source": [
    "Training data have unequal observations for weeks. That means, data has missing observations for many weeks."
   ]
  },
  {
   "attachments": {},
   "cell_type": "markdown",
   "metadata": {},
   "source": [
    "checking center_id column"
   ]
  },
  {
   "cell_type": "code",
   "execution_count": 22,
   "metadata": {},
   "outputs": [
    {
     "data": {
      "text/plain": [
       "13     7046\n",
       "10     7015\n",
       "52     6993\n",
       "43     6970\n",
       "67     6915\n",
       "       ... \n",
       "139    4627\n",
       "57     4501\n",
       "162    4366\n",
       "41     4083\n",
       "91     3432\n",
       "Name: center_id, Length: 77, dtype: int64"
      ]
     },
     "execution_count": 22,
     "metadata": {},
     "output_type": "execute_result"
    }
   ],
   "source": [
    "df_train.center_id.value_counts()"
   ]
  },
  {
   "attachments": {},
   "cell_type": "markdown",
   "metadata": {},
   "source": [
    "checking meal_id column"
   ]
  },
  {
   "cell_type": "code",
   "execution_count": 23,
   "metadata": {},
   "outputs": [
    {
     "data": {
      "text/plain": [
       "2290    11138\n",
       "1062    11137\n",
       "1727    11136\n",
       "1109    11134\n",
       "1754    11132\n",
       "2707    11123\n",
       "1778    11121\n",
       "1993    11116\n",
       "1962    11114\n",
       "1971    11102\n",
       "1885    11092\n",
       "2581    11072\n",
       "2826    11057\n",
       "2322    11002\n",
       "1558    10952\n",
       "1207    10806\n",
       "2640    10747\n",
       "1230    10746\n",
       "1878    10527\n",
       "2631    10458\n",
       "2539    10451\n",
       "1543    10236\n",
       "2760    10209\n",
       "1248     9939\n",
       "2664     9853\n",
       "2704     9811\n",
       "1445     9727\n",
       "2126     9705\n",
       "1216     9695\n",
       "2304     9676\n",
       "2569     9459\n",
       "2492     9382\n",
       "1525     9359\n",
       "2490     9247\n",
       "2444     9097\n",
       "2139     8899\n",
       "2577     8667\n",
       "2306     8294\n",
       "2867     8092\n",
       "1247     7184\n",
       "1902     6748\n",
       "1770     6682\n",
       "1311     4682\n",
       "1803     4674\n",
       "1571     4511\n",
       "1438     4385\n",
       "1198     4206\n",
       "2494     4206\n",
       "1847     4084\n",
       "2956     3319\n",
       "2104     2357\n",
       "Name: meal_id, dtype: int64"
      ]
     },
     "execution_count": 23,
     "metadata": {},
     "output_type": "execute_result"
    }
   ],
   "source": [
    "df_train.meal_id.value_counts()"
   ]
  },
  {
   "attachments": {},
   "cell_type": "markdown",
   "metadata": {},
   "source": [
    "checking values in check_out price"
   ]
  },
  {
   "cell_type": "code",
   "execution_count": 24,
   "metadata": {},
   "outputs": [
    {
     "data": {
      "text/plain": [
       "count    456548.000000\n",
       "mean        332.238933\n",
       "std         152.939723\n",
       "min           2.970000\n",
       "25%         228.950000\n",
       "50%         296.820000\n",
       "75%         445.230000\n",
       "max         866.270000\n",
       "Name: checkout_price, dtype: float64"
      ]
     },
     "execution_count": 24,
     "metadata": {},
     "output_type": "execute_result"
    }
   ],
   "source": [
    "df_train.checkout_price.describe()"
   ]
  },
  {
   "attachments": {},
   "cell_type": "markdown",
   "metadata": {},
   "source": [
    "checking values in base_price column"
   ]
  },
  {
   "cell_type": "code",
   "execution_count": 25,
   "metadata": {},
   "outputs": [
    {
     "data": {
      "text/plain": [
       "count    456548.000000\n",
       "mean        354.156627\n",
       "std         160.715914\n",
       "min          55.350000\n",
       "25%         243.500000\n",
       "50%         310.460000\n",
       "75%         458.870000\n",
       "max         866.270000\n",
       "Name: base_price, dtype: float64"
      ]
     },
     "execution_count": 25,
     "metadata": {},
     "output_type": "execute_result"
    }
   ],
   "source": [
    "df_train.base_price.describe()"
   ]
  },
  {
   "attachments": {},
   "cell_type": "markdown",
   "metadata": {},
   "source": [
    "There is a huge gap in minimum and 25% value for base_price."
   ]
  },
  {
   "cell_type": "code",
   "execution_count": 26,
   "metadata": {},
   "outputs": [
    {
     "data": {
      "text/html": [
       "<div>\n",
       "<style scoped>\n",
       "    .dataframe tbody tr th:only-of-type {\n",
       "        vertical-align: middle;\n",
       "    }\n",
       "\n",
       "    .dataframe tbody tr th {\n",
       "        vertical-align: top;\n",
       "    }\n",
       "\n",
       "    .dataframe thead th {\n",
       "        text-align: right;\n",
       "    }\n",
       "</style>\n",
       "<table border=\"1\" class=\"dataframe\">\n",
       "  <thead>\n",
       "    <tr style=\"text-align: right;\">\n",
       "      <th></th>\n",
       "      <th>id</th>\n",
       "      <th>week</th>\n",
       "      <th>center_id</th>\n",
       "      <th>meal_id</th>\n",
       "      <th>checkout_price</th>\n",
       "      <th>base_price</th>\n",
       "      <th>emailer_for_promotion</th>\n",
       "      <th>homepage_featured</th>\n",
       "      <th>num_orders</th>\n",
       "    </tr>\n",
       "  </thead>\n",
       "  <tbody>\n",
       "    <tr>\n",
       "      <th>110286</th>\n",
       "      <td>1300283</td>\n",
       "      <td>38</td>\n",
       "      <td>73</td>\n",
       "      <td>1230</td>\n",
       "      <td>2.97</td>\n",
       "      <td>316.25</td>\n",
       "      <td>0</td>\n",
       "      <td>0</td>\n",
       "      <td>14</td>\n",
       "    </tr>\n",
       "    <tr>\n",
       "      <th>44875</th>\n",
       "      <td>1381921</td>\n",
       "      <td>16</td>\n",
       "      <td>41</td>\n",
       "      <td>1248</td>\n",
       "      <td>45.62</td>\n",
       "      <td>253.23</td>\n",
       "      <td>0</td>\n",
       "      <td>0</td>\n",
       "      <td>123</td>\n",
       "    </tr>\n",
       "    <tr>\n",
       "      <th>44874</th>\n",
       "      <td>1414392</td>\n",
       "      <td>16</td>\n",
       "      <td>41</td>\n",
       "      <td>2631</td>\n",
       "      <td>47.59</td>\n",
       "      <td>253.23</td>\n",
       "      <td>0</td>\n",
       "      <td>0</td>\n",
       "      <td>163</td>\n",
       "    </tr>\n",
       "    <tr>\n",
       "      <th>417180</th>\n",
       "      <td>1372230</td>\n",
       "      <td>134</td>\n",
       "      <td>24</td>\n",
       "      <td>2631</td>\n",
       "      <td>53.41</td>\n",
       "      <td>86.39</td>\n",
       "      <td>1</td>\n",
       "      <td>0</td>\n",
       "      <td>134</td>\n",
       "    </tr>\n",
       "    <tr>\n",
       "      <th>72701</th>\n",
       "      <td>1324508</td>\n",
       "      <td>26</td>\n",
       "      <td>124</td>\n",
       "      <td>1803</td>\n",
       "      <td>55.35</td>\n",
       "      <td>212.43</td>\n",
       "      <td>0</td>\n",
       "      <td>0</td>\n",
       "      <td>81</td>\n",
       "    </tr>\n",
       "  </tbody>\n",
       "</table>\n",
       "</div>"
      ],
      "text/plain": [
       "             id  week  center_id  meal_id  checkout_price  base_price  \\\n",
       "110286  1300283    38         73     1230            2.97      316.25   \n",
       "44875   1381921    16         41     1248           45.62      253.23   \n",
       "44874   1414392    16         41     2631           47.59      253.23   \n",
       "417180  1372230   134         24     2631           53.41       86.39   \n",
       "72701   1324508    26        124     1803           55.35      212.43   \n",
       "\n",
       "        emailer_for_promotion  homepage_featured  num_orders  \n",
       "110286                      0                  0          14  \n",
       "44875                       0                  0         123  \n",
       "44874                       0                  0         163  \n",
       "417180                      1                  0         134  \n",
       "72701                       0                  0          81  "
      ]
     },
     "execution_count": 26,
     "metadata": {},
     "output_type": "execute_result"
    }
   ],
   "source": [
    "df_train.sort_values('checkout_price').head()"
   ]
  },
  {
   "attachments": {},
   "cell_type": "markdown",
   "metadata": {},
   "source": [
    "In the first column,the base price is 316.25 and check out price is 2.97,which means 2.97 is outlier."
   ]
  },
  {
   "attachments": {},
   "cell_type": "markdown",
   "metadata": {},
   "source": [
    "checking values in num_orders"
   ]
  },
  {
   "cell_type": "code",
   "execution_count": 27,
   "metadata": {},
   "outputs": [
    {
     "data": {
      "text/plain": [
       "count    456548.000000\n",
       "mean        261.872760\n",
       "std         395.922798\n",
       "min          13.000000\n",
       "25%          54.000000\n",
       "50%         136.000000\n",
       "75%         324.000000\n",
       "max       24299.000000\n",
       "Name: num_orders, dtype: float64"
      ]
     },
     "execution_count": 27,
     "metadata": {},
     "output_type": "execute_result"
    }
   ],
   "source": [
    "df_train.num_orders.describe()"
   ]
  },
  {
   "attachments": {},
   "cell_type": "markdown",
   "metadata": {},
   "source": [
    "There is a difference in maximum value and 75% value.Seems there is outlier."
   ]
  },
  {
   "cell_type": "code",
   "execution_count": 28,
   "metadata": {},
   "outputs": [
    {
     "data": {
      "text/html": [
       "<div>\n",
       "<style scoped>\n",
       "    .dataframe tbody tr th:only-of-type {\n",
       "        vertical-align: middle;\n",
       "    }\n",
       "\n",
       "    .dataframe tbody tr th {\n",
       "        vertical-align: top;\n",
       "    }\n",
       "\n",
       "    .dataframe thead th {\n",
       "        text-align: right;\n",
       "    }\n",
       "</style>\n",
       "<table border=\"1\" class=\"dataframe\">\n",
       "  <thead>\n",
       "    <tr style=\"text-align: right;\">\n",
       "      <th></th>\n",
       "      <th>id</th>\n",
       "      <th>week</th>\n",
       "      <th>center_id</th>\n",
       "      <th>meal_id</th>\n",
       "      <th>checkout_price</th>\n",
       "      <th>base_price</th>\n",
       "      <th>emailer_for_promotion</th>\n",
       "      <th>homepage_featured</th>\n",
       "      <th>num_orders</th>\n",
       "    </tr>\n",
       "  </thead>\n",
       "  <tbody>\n",
       "    <tr>\n",
       "      <th>413351</th>\n",
       "      <td>1346216</td>\n",
       "      <td>132</td>\n",
       "      <td>43</td>\n",
       "      <td>1971</td>\n",
       "      <td>204.70</td>\n",
       "      <td>324.04</td>\n",
       "      <td>1</td>\n",
       "      <td>1</td>\n",
       "      <td>13150</td>\n",
       "    </tr>\n",
       "    <tr>\n",
       "      <th>13923</th>\n",
       "      <td>1470267</td>\n",
       "      <td>5</td>\n",
       "      <td>10</td>\n",
       "      <td>2290</td>\n",
       "      <td>162.99</td>\n",
       "      <td>309.43</td>\n",
       "      <td>1</td>\n",
       "      <td>0</td>\n",
       "      <td>13580</td>\n",
       "    </tr>\n",
       "    <tr>\n",
       "      <th>16904</th>\n",
       "      <td>1087163</td>\n",
       "      <td>6</td>\n",
       "      <td>43</td>\n",
       "      <td>2290</td>\n",
       "      <td>156.20</td>\n",
       "      <td>310.43</td>\n",
       "      <td>0</td>\n",
       "      <td>1</td>\n",
       "      <td>14229</td>\n",
       "    </tr>\n",
       "    <tr>\n",
       "      <th>19700</th>\n",
       "      <td>1300512</td>\n",
       "      <td>7</td>\n",
       "      <td>43</td>\n",
       "      <td>2290</td>\n",
       "      <td>159.08</td>\n",
       "      <td>311.43</td>\n",
       "      <td>1</td>\n",
       "      <td>1</td>\n",
       "      <td>15336</td>\n",
       "    </tr>\n",
       "    <tr>\n",
       "      <th>14050</th>\n",
       "      <td>1452474</td>\n",
       "      <td>5</td>\n",
       "      <td>43</td>\n",
       "      <td>2290</td>\n",
       "      <td>159.08</td>\n",
       "      <td>311.43</td>\n",
       "      <td>1</td>\n",
       "      <td>1</td>\n",
       "      <td>24299</td>\n",
       "    </tr>\n",
       "  </tbody>\n",
       "</table>\n",
       "</div>"
      ],
      "text/plain": [
       "             id  week  center_id  meal_id  checkout_price  base_price  \\\n",
       "413351  1346216   132         43     1971          204.70      324.04   \n",
       "13923   1470267     5         10     2290          162.99      309.43   \n",
       "16904   1087163     6         43     2290          156.20      310.43   \n",
       "19700   1300512     7         43     2290          159.08      311.43   \n",
       "14050   1452474     5         43     2290          159.08      311.43   \n",
       "\n",
       "        emailer_for_promotion  homepage_featured  num_orders  \n",
       "413351                      1                  1       13150  \n",
       "13923                       1                  0       13580  \n",
       "16904                       0                  1       14229  \n",
       "19700                       1                  1       15336  \n",
       "14050                       1                  1       24299  "
      ]
     },
     "execution_count": 28,
     "metadata": {},
     "output_type": "execute_result"
    }
   ],
   "source": [
    "df_train.sort_values('num_orders').tail()"
   ]
  },
  {
   "attachments": {},
   "cell_type": "markdown",
   "metadata": {},
   "source": [
    "The last column seems to be an outlier"
   ]
  },
  {
   "attachments": {},
   "cell_type": "markdown",
   "metadata": {},
   "source": [
    "checking emailer_for_promotion column"
   ]
  },
  {
   "cell_type": "code",
   "execution_count": 29,
   "metadata": {},
   "outputs": [
    {
     "data": {
      "text/plain": [
       "0    419498\n",
       "1     37050\n",
       "Name: emailer_for_promotion, dtype: int64"
      ]
     },
     "execution_count": 29,
     "metadata": {},
     "output_type": "execute_result"
    }
   ],
   "source": [
    "df_train.emailer_for_promotion.value_counts()"
   ]
  },
  {
   "attachments": {},
   "cell_type": "markdown",
   "metadata": {},
   "source": [
    "checking homepage_featured column"
   ]
  },
  {
   "cell_type": "code",
   "execution_count": 30,
   "metadata": {},
   "outputs": [
    {
     "data": {
      "text/plain": [
       "0    406693\n",
       "1     49855\n",
       "Name: homepage_featured, dtype: int64"
      ]
     },
     "execution_count": 30,
     "metadata": {},
     "output_type": "execute_result"
    }
   ],
   "source": [
    "df_train.homepage_featured.value_counts()"
   ]
  },
  {
   "attachments": {},
   "cell_type": "markdown",
   "metadata": {},
   "source": [
    "## Observations from Training data\n",
    "\n",
    "1. The training data is missing for some weeks.\n",
    "2. There is an outlier with checkout_price as 2.97.\n",
    "3. Another outlier is present in number of orders as 24299."
   ]
  },
  {
   "attachments": {},
   "cell_type": "markdown",
   "metadata": {},
   "source": [
    "## Analysing test data"
   ]
  },
  {
   "cell_type": "code",
   "execution_count": 31,
   "metadata": {},
   "outputs": [
    {
     "data": {
      "text/html": [
       "<div>\n",
       "<style scoped>\n",
       "    .dataframe tbody tr th:only-of-type {\n",
       "        vertical-align: middle;\n",
       "    }\n",
       "\n",
       "    .dataframe tbody tr th {\n",
       "        vertical-align: top;\n",
       "    }\n",
       "\n",
       "    .dataframe thead th {\n",
       "        text-align: right;\n",
       "    }\n",
       "</style>\n",
       "<table border=\"1\" class=\"dataframe\">\n",
       "  <thead>\n",
       "    <tr style=\"text-align: right;\">\n",
       "      <th></th>\n",
       "      <th>id</th>\n",
       "      <th>week</th>\n",
       "      <th>center_id</th>\n",
       "      <th>meal_id</th>\n",
       "      <th>checkout_price</th>\n",
       "      <th>base_price</th>\n",
       "      <th>emailer_for_promotion</th>\n",
       "      <th>homepage_featured</th>\n",
       "    </tr>\n",
       "  </thead>\n",
       "  <tbody>\n",
       "    <tr>\n",
       "      <th>0</th>\n",
       "      <td>1028232</td>\n",
       "      <td>146</td>\n",
       "      <td>55</td>\n",
       "      <td>1885</td>\n",
       "      <td>158.11</td>\n",
       "      <td>159.11</td>\n",
       "      <td>0</td>\n",
       "      <td>0</td>\n",
       "    </tr>\n",
       "    <tr>\n",
       "      <th>1</th>\n",
       "      <td>1127204</td>\n",
       "      <td>146</td>\n",
       "      <td>55</td>\n",
       "      <td>1993</td>\n",
       "      <td>160.11</td>\n",
       "      <td>159.11</td>\n",
       "      <td>0</td>\n",
       "      <td>0</td>\n",
       "    </tr>\n",
       "    <tr>\n",
       "      <th>2</th>\n",
       "      <td>1212707</td>\n",
       "      <td>146</td>\n",
       "      <td>55</td>\n",
       "      <td>2539</td>\n",
       "      <td>157.14</td>\n",
       "      <td>159.14</td>\n",
       "      <td>0</td>\n",
       "      <td>0</td>\n",
       "    </tr>\n",
       "    <tr>\n",
       "      <th>3</th>\n",
       "      <td>1082698</td>\n",
       "      <td>146</td>\n",
       "      <td>55</td>\n",
       "      <td>2631</td>\n",
       "      <td>162.02</td>\n",
       "      <td>162.02</td>\n",
       "      <td>0</td>\n",
       "      <td>0</td>\n",
       "    </tr>\n",
       "    <tr>\n",
       "      <th>4</th>\n",
       "      <td>1400926</td>\n",
       "      <td>146</td>\n",
       "      <td>55</td>\n",
       "      <td>1248</td>\n",
       "      <td>163.93</td>\n",
       "      <td>163.93</td>\n",
       "      <td>0</td>\n",
       "      <td>0</td>\n",
       "    </tr>\n",
       "  </tbody>\n",
       "</table>\n",
       "</div>"
      ],
      "text/plain": [
       "        id  week  center_id  meal_id  checkout_price  base_price  \\\n",
       "0  1028232   146         55     1885          158.11      159.11   \n",
       "1  1127204   146         55     1993          160.11      159.11   \n",
       "2  1212707   146         55     2539          157.14      159.14   \n",
       "3  1082698   146         55     2631          162.02      162.02   \n",
       "4  1400926   146         55     1248          163.93      163.93   \n",
       "\n",
       "   emailer_for_promotion  homepage_featured  \n",
       "0                      0                  0  \n",
       "1                      0                  0  \n",
       "2                      0                  0  \n",
       "3                      0                  0  \n",
       "4                      0                  0  "
      ]
     },
     "execution_count": 31,
     "metadata": {},
     "output_type": "execute_result"
    }
   ],
   "source": [
    "df_test.head()"
   ]
  },
  {
   "attachments": {},
   "cell_type": "markdown",
   "metadata": {},
   "source": [
    "Summary of Test data "
   ]
  },
  {
   "cell_type": "code",
   "execution_count": 32,
   "metadata": {},
   "outputs": [
    {
     "name": "stdout",
     "output_type": "stream",
     "text": [
      "<class 'pandas.core.frame.DataFrame'>\n",
      "RangeIndex: 32573 entries, 0 to 32572\n",
      "Data columns (total 8 columns):\n",
      " #   Column                 Non-Null Count  Dtype  \n",
      "---  ------                 --------------  -----  \n",
      " 0   id                     32573 non-null  int64  \n",
      " 1   week                   32573 non-null  int64  \n",
      " 2   center_id              32573 non-null  int64  \n",
      " 3   meal_id                32573 non-null  int64  \n",
      " 4   checkout_price         32573 non-null  float64\n",
      " 5   base_price             32573 non-null  float64\n",
      " 6   emailer_for_promotion  32573 non-null  int64  \n",
      " 7   homepage_featured      32573 non-null  int64  \n",
      "dtypes: float64(2), int64(6)\n",
      "memory usage: 2.0 MB\n"
     ]
    }
   ],
   "source": [
    "\n",
    "df_test.info()"
   ]
  },
  {
   "cell_type": "code",
   "execution_count": 33,
   "metadata": {},
   "outputs": [
    {
     "data": {
      "text/plain": [
       "id                       0\n",
       "week                     0\n",
       "center_id                0\n",
       "meal_id                  0\n",
       "checkout_price           0\n",
       "base_price               0\n",
       "emailer_for_promotion    0\n",
       "homepage_featured        0\n",
       "dtype: int64"
      ]
     },
     "execution_count": 33,
     "metadata": {},
     "output_type": "execute_result"
    }
   ],
   "source": [
    "df_test.isnull().sum()"
   ]
  },
  {
   "attachments": {},
   "cell_type": "markdown",
   "metadata": {},
   "source": [
    "There are no missing values in test data"
   ]
  },
  {
   "attachments": {},
   "cell_type": "markdown",
   "metadata": {},
   "source": [
    "checking week column"
   ]
  },
  {
   "cell_type": "code",
   "execution_count": 34,
   "metadata": {},
   "outputs": [
    {
     "data": {
      "text/plain": [
       "148    3332\n",
       "149    3313\n",
       "150    3277\n",
       "147    3271\n",
       "153    3268\n",
       "152    3242\n",
       "146    3240\n",
       "154    3228\n",
       "151    3224\n",
       "155    3178\n",
       "Name: week, dtype: int64"
      ]
     },
     "execution_count": 34,
     "metadata": {},
     "output_type": "execute_result"
    }
   ],
   "source": [
    "df_test.week.value_counts()"
   ]
  },
  {
   "attachments": {},
   "cell_type": "markdown",
   "metadata": {},
   "source": [
    "Test Data also have missing observation for some weeks."
   ]
  },
  {
   "attachments": {},
   "cell_type": "markdown",
   "metadata": {},
   "source": [
    "checking center_id"
   ]
  },
  {
   "cell_type": "code",
   "execution_count": 35,
   "metadata": {},
   "outputs": [
    {
     "data": {
      "text/plain": [
       "13     509\n",
       "10     508\n",
       "52     506\n",
       "174    504\n",
       "67     499\n",
       "      ... \n",
       "139    321\n",
       "57     311\n",
       "162    310\n",
       "41     299\n",
       "91     280\n",
       "Name: center_id, Length: 77, dtype: int64"
      ]
     },
     "execution_count": 35,
     "metadata": {},
     "output_type": "execute_result"
    }
   ],
   "source": [
    "df_test.center_id.value_counts()"
   ]
  },
  {
   "attachments": {},
   "cell_type": "markdown",
   "metadata": {},
   "source": [
    "checking meal_id"
   ]
  },
  {
   "cell_type": "code",
   "execution_count": 36,
   "metadata": {},
   "outputs": [
    {
     "data": {
      "text/plain": [
       "2290    770\n",
       "2569    770\n",
       "2664    770\n",
       "1962    770\n",
       "1754    770\n",
       "2826    770\n",
       "1727    770\n",
       "1885    769\n",
       "2490    769\n",
       "2581    769\n",
       "1109    769\n",
       "1971    768\n",
       "1558    767\n",
       "1993    767\n",
       "1062    766\n",
       "2707    764\n",
       "1778    762\n",
       "2539    761\n",
       "1543    760\n",
       "1207    758\n",
       "2322    752\n",
       "1230    744\n",
       "2640    735\n",
       "2704    724\n",
       "2631    717\n",
       "2304    715\n",
       "2760    712\n",
       "1216    709\n",
       "1878    709\n",
       "2139    671\n",
       "1525    668\n",
       "1248    660\n",
       "2492    638\n",
       "2126    626\n",
       "1445    602\n",
       "2306    592\n",
       "2444    568\n",
       "1571    544\n",
       "2577    540\n",
       "2867    527\n",
       "1770    486\n",
       "1902    435\n",
       "2956    426\n",
       "1247    416\n",
       "2104    361\n",
       "1311    342\n",
       "1803    341\n",
       "1847    333\n",
       "1438    327\n",
       "1198    309\n",
       "2494    305\n",
       "Name: meal_id, dtype: int64"
      ]
     },
     "execution_count": 36,
     "metadata": {},
     "output_type": "execute_result"
    }
   ],
   "source": [
    "df_test.meal_id.value_counts()"
   ]
  },
  {
   "attachments": {},
   "cell_type": "markdown",
   "metadata": {},
   "source": [
    "checking checkout_price"
   ]
  },
  {
   "cell_type": "code",
   "execution_count": 37,
   "metadata": {},
   "outputs": [
    {
     "data": {
      "text/plain": [
       "count    32573.000000\n",
       "mean       341.854440\n",
       "std        153.893886\n",
       "min         67.900000\n",
       "25%        214.430000\n",
       "50%        320.130000\n",
       "75%        446.230000\n",
       "max       1113.620000\n",
       "Name: checkout_price, dtype: float64"
      ]
     },
     "execution_count": 37,
     "metadata": {},
     "output_type": "execute_result"
    }
   ],
   "source": [
    "df_test.checkout_price.describe()"
   ]
  },
  {
   "attachments": {},
   "cell_type": "markdown",
   "metadata": {},
   "source": [
    "checking base_price"
   ]
  },
  {
   "cell_type": "code",
   "execution_count": 38,
   "metadata": {},
   "outputs": [
    {
     "data": {
      "text/plain": [
       "count    32573.000000\n",
       "mean       356.493615\n",
       "std        155.150101\n",
       "min         89.240000\n",
       "25%        243.500000\n",
       "50%        321.130000\n",
       "75%        455.930000\n",
       "max       1112.620000\n",
       "Name: base_price, dtype: float64"
      ]
     },
     "execution_count": 38,
     "metadata": {},
     "output_type": "execute_result"
    }
   ],
   "source": [
    "df_test.base_price.describe()"
   ]
  },
  {
   "attachments": {},
   "cell_type": "markdown",
   "metadata": {},
   "source": [
    "checking emailer_for_promotion"
   ]
  },
  {
   "cell_type": "code",
   "execution_count": 39,
   "metadata": {},
   "outputs": [
    {
     "data": {
      "text/plain": [
       "0    30409\n",
       "1     2164\n",
       "Name: emailer_for_promotion, dtype: int64"
      ]
     },
     "execution_count": 39,
     "metadata": {},
     "output_type": "execute_result"
    }
   ],
   "source": [
    "df_test.emailer_for_promotion.value_counts()"
   ]
  },
  {
   "attachments": {},
   "cell_type": "markdown",
   "metadata": {},
   "source": [
    "checking homepage_featured"
   ]
  },
  {
   "cell_type": "code",
   "execution_count": 40,
   "metadata": {},
   "outputs": [
    {
     "data": {
      "text/plain": [
       "0    29923\n",
       "1     2650\n",
       "Name: homepage_featured, dtype: int64"
      ]
     },
     "execution_count": 40,
     "metadata": {},
     "output_type": "execute_result"
    }
   ],
   "source": [
    "df_test.homepage_featured.value_counts()"
   ]
  },
  {
   "attachments": {},
   "cell_type": "markdown",
   "metadata": {},
   "source": [
    "## Observations from Training data\n",
    "\n",
    "1. The test data also has missing observation for some weeks."
   ]
  },
  {
   "attachments": {},
   "cell_type": "markdown",
   "metadata": {},
   "source": [
    "## Data Preprocessing"
   ]
  },
  {
   "attachments": {},
   "cell_type": "markdown",
   "metadata": {},
   "source": [
    "Combining test and train data"
   ]
  },
  {
   "cell_type": "code",
   "execution_count": 41,
   "metadata": {},
   "outputs": [
    {
     "data": {
      "text/html": [
       "<div>\n",
       "<style scoped>\n",
       "    .dataframe tbody tr th:only-of-type {\n",
       "        vertical-align: middle;\n",
       "    }\n",
       "\n",
       "    .dataframe tbody tr th {\n",
       "        vertical-align: top;\n",
       "    }\n",
       "\n",
       "    .dataframe thead th {\n",
       "        text-align: right;\n",
       "    }\n",
       "</style>\n",
       "<table border=\"1\" class=\"dataframe\">\n",
       "  <thead>\n",
       "    <tr style=\"text-align: right;\">\n",
       "      <th></th>\n",
       "      <th>id</th>\n",
       "      <th>week</th>\n",
       "      <th>center_id</th>\n",
       "      <th>meal_id</th>\n",
       "      <th>checkout_price</th>\n",
       "      <th>base_price</th>\n",
       "      <th>emailer_for_promotion</th>\n",
       "      <th>homepage_featured</th>\n",
       "    </tr>\n",
       "  </thead>\n",
       "  <tbody>\n",
       "    <tr>\n",
       "      <th>32568</th>\n",
       "      <td>1250239</td>\n",
       "      <td>155</td>\n",
       "      <td>61</td>\n",
       "      <td>1543</td>\n",
       "      <td>482.09</td>\n",
       "      <td>484.09</td>\n",
       "      <td>0</td>\n",
       "      <td>0</td>\n",
       "    </tr>\n",
       "    <tr>\n",
       "      <th>32569</th>\n",
       "      <td>1039516</td>\n",
       "      <td>155</td>\n",
       "      <td>61</td>\n",
       "      <td>2304</td>\n",
       "      <td>483.09</td>\n",
       "      <td>483.09</td>\n",
       "      <td>0</td>\n",
       "      <td>0</td>\n",
       "    </tr>\n",
       "    <tr>\n",
       "      <th>32570</th>\n",
       "      <td>1158107</td>\n",
       "      <td>155</td>\n",
       "      <td>61</td>\n",
       "      <td>2664</td>\n",
       "      <td>322.07</td>\n",
       "      <td>323.07</td>\n",
       "      <td>0</td>\n",
       "      <td>0</td>\n",
       "    </tr>\n",
       "    <tr>\n",
       "      <th>32571</th>\n",
       "      <td>1444235</td>\n",
       "      <td>155</td>\n",
       "      <td>61</td>\n",
       "      <td>2569</td>\n",
       "      <td>322.07</td>\n",
       "      <td>323.07</td>\n",
       "      <td>0</td>\n",
       "      <td>0</td>\n",
       "    </tr>\n",
       "    <tr>\n",
       "      <th>32572</th>\n",
       "      <td>1291286</td>\n",
       "      <td>155</td>\n",
       "      <td>61</td>\n",
       "      <td>2490</td>\n",
       "      <td>276.45</td>\n",
       "      <td>276.45</td>\n",
       "      <td>0</td>\n",
       "      <td>0</td>\n",
       "    </tr>\n",
       "  </tbody>\n",
       "</table>\n",
       "</div>"
      ],
      "text/plain": [
       "            id  week  center_id  meal_id  checkout_price  base_price  \\\n",
       "32568  1250239   155         61     1543          482.09      484.09   \n",
       "32569  1039516   155         61     2304          483.09      483.09   \n",
       "32570  1158107   155         61     2664          322.07      323.07   \n",
       "32571  1444235   155         61     2569          322.07      323.07   \n",
       "32572  1291286   155         61     2490          276.45      276.45   \n",
       "\n",
       "       emailer_for_promotion  homepage_featured  \n",
       "32568                      0                  0  \n",
       "32569                      0                  0  \n",
       "32570                      0                  0  \n",
       "32571                      0                  0  \n",
       "32572                      0                  0  "
      ]
     },
     "execution_count": 41,
     "metadata": {},
     "output_type": "execute_result"
    }
   ],
   "source": [
    "training_data_without_target = df_train[df_train.columns[df_train.columns != 'num_orders'].values]\n",
    "total_data = training_data_without_target.append(df_test, sort=False)\n",
    "total_data.tail()"
   ]
  },
  {
   "attachments": {},
   "cell_type": "markdown",
   "metadata": {},
   "source": [
    "merging fulfilment center information to total data"
   ]
  },
  {
   "cell_type": "code",
   "execution_count": 42,
   "metadata": {},
   "outputs": [
    {
     "data": {
      "text/html": [
       "<div>\n",
       "<style scoped>\n",
       "    .dataframe tbody tr th:only-of-type {\n",
       "        vertical-align: middle;\n",
       "    }\n",
       "\n",
       "    .dataframe tbody tr th {\n",
       "        vertical-align: top;\n",
       "    }\n",
       "\n",
       "    .dataframe thead th {\n",
       "        text-align: right;\n",
       "    }\n",
       "</style>\n",
       "<table border=\"1\" class=\"dataframe\">\n",
       "  <thead>\n",
       "    <tr style=\"text-align: right;\">\n",
       "      <th></th>\n",
       "      <th>id</th>\n",
       "      <th>week</th>\n",
       "      <th>center_id</th>\n",
       "      <th>meal_id</th>\n",
       "      <th>checkout_price</th>\n",
       "      <th>base_price</th>\n",
       "      <th>emailer_for_promotion</th>\n",
       "      <th>homepage_featured</th>\n",
       "      <th>city_code</th>\n",
       "      <th>region_code</th>\n",
       "      <th>center_type</th>\n",
       "      <th>op_area</th>\n",
       "    </tr>\n",
       "  </thead>\n",
       "  <tbody>\n",
       "    <tr>\n",
       "      <th>0</th>\n",
       "      <td>1379560</td>\n",
       "      <td>1</td>\n",
       "      <td>55</td>\n",
       "      <td>1885</td>\n",
       "      <td>136.83</td>\n",
       "      <td>152.29</td>\n",
       "      <td>0</td>\n",
       "      <td>0</td>\n",
       "      <td>647</td>\n",
       "      <td>56</td>\n",
       "      <td>TYPE_C</td>\n",
       "      <td>2.0</td>\n",
       "    </tr>\n",
       "    <tr>\n",
       "      <th>1</th>\n",
       "      <td>1466964</td>\n",
       "      <td>1</td>\n",
       "      <td>55</td>\n",
       "      <td>1993</td>\n",
       "      <td>136.83</td>\n",
       "      <td>135.83</td>\n",
       "      <td>0</td>\n",
       "      <td>0</td>\n",
       "      <td>647</td>\n",
       "      <td>56</td>\n",
       "      <td>TYPE_C</td>\n",
       "      <td>2.0</td>\n",
       "    </tr>\n",
       "    <tr>\n",
       "      <th>2</th>\n",
       "      <td>1346989</td>\n",
       "      <td>1</td>\n",
       "      <td>55</td>\n",
       "      <td>2539</td>\n",
       "      <td>134.86</td>\n",
       "      <td>135.86</td>\n",
       "      <td>0</td>\n",
       "      <td>0</td>\n",
       "      <td>647</td>\n",
       "      <td>56</td>\n",
       "      <td>TYPE_C</td>\n",
       "      <td>2.0</td>\n",
       "    </tr>\n",
       "    <tr>\n",
       "      <th>3</th>\n",
       "      <td>1338232</td>\n",
       "      <td>1</td>\n",
       "      <td>55</td>\n",
       "      <td>2139</td>\n",
       "      <td>339.50</td>\n",
       "      <td>437.53</td>\n",
       "      <td>0</td>\n",
       "      <td>0</td>\n",
       "      <td>647</td>\n",
       "      <td>56</td>\n",
       "      <td>TYPE_C</td>\n",
       "      <td>2.0</td>\n",
       "    </tr>\n",
       "    <tr>\n",
       "      <th>4</th>\n",
       "      <td>1448490</td>\n",
       "      <td>1</td>\n",
       "      <td>55</td>\n",
       "      <td>2631</td>\n",
       "      <td>243.50</td>\n",
       "      <td>242.50</td>\n",
       "      <td>0</td>\n",
       "      <td>0</td>\n",
       "      <td>647</td>\n",
       "      <td>56</td>\n",
       "      <td>TYPE_C</td>\n",
       "      <td>2.0</td>\n",
       "    </tr>\n",
       "  </tbody>\n",
       "</table>\n",
       "</div>"
      ],
      "text/plain": [
       "        id  week  center_id  meal_id  checkout_price  base_price  \\\n",
       "0  1379560     1         55     1885          136.83      152.29   \n",
       "1  1466964     1         55     1993          136.83      135.83   \n",
       "2  1346989     1         55     2539          134.86      135.86   \n",
       "3  1338232     1         55     2139          339.50      437.53   \n",
       "4  1448490     1         55     2631          243.50      242.50   \n",
       "\n",
       "   emailer_for_promotion  homepage_featured  city_code  region_code  \\\n",
       "0                      0                  0        647           56   \n",
       "1                      0                  0        647           56   \n",
       "2                      0                  0        647           56   \n",
       "3                      0                  0        647           56   \n",
       "4                      0                  0        647           56   \n",
       "\n",
       "  center_type  op_area  \n",
       "0      TYPE_C      2.0  \n",
       "1      TYPE_C      2.0  \n",
       "2      TYPE_C      2.0  \n",
       "3      TYPE_C      2.0  \n",
       "4      TYPE_C      2.0  "
      ]
     },
     "execution_count": 42,
     "metadata": {},
     "output_type": "execute_result"
    }
   ],
   "source": [
    "total_data=total_data.merge(df_fulfil_center,on='center_id',how='left')\n",
    "total_data.head()"
   ]
  },
  {
   "attachments": {},
   "cell_type": "markdown",
   "metadata": {},
   "source": [
    "merging meal information to total data"
   ]
  },
  {
   "cell_type": "code",
   "execution_count": 109,
   "metadata": {},
   "outputs": [
    {
     "data": {
      "text/html": [
       "<div>\n",
       "<style scoped>\n",
       "    .dataframe tbody tr th:only-of-type {\n",
       "        vertical-align: middle;\n",
       "    }\n",
       "\n",
       "    .dataframe tbody tr th {\n",
       "        vertical-align: top;\n",
       "    }\n",
       "\n",
       "    .dataframe thead th {\n",
       "        text-align: right;\n",
       "    }\n",
       "</style>\n",
       "<table border=\"1\" class=\"dataframe\">\n",
       "  <thead>\n",
       "    <tr style=\"text-align: right;\">\n",
       "      <th></th>\n",
       "      <th>id</th>\n",
       "      <th>week</th>\n",
       "      <th>center_id</th>\n",
       "      <th>meal_id</th>\n",
       "      <th>checkout_price</th>\n",
       "      <th>base_price</th>\n",
       "      <th>emailer_for_promotion</th>\n",
       "      <th>homepage_featured</th>\n",
       "      <th>city_code</th>\n",
       "      <th>region_code</th>\n",
       "      <th>center_type</th>\n",
       "      <th>op_area</th>\n",
       "      <th>category_x</th>\n",
       "      <th>cuisine_x</th>\n",
       "      <th>year</th>\n",
       "      <th>month</th>\n",
       "      <th>quarter</th>\n",
       "      <th>week_in_month</th>\n",
       "      <th>category_y</th>\n",
       "      <th>cuisine_y</th>\n",
       "      <th>category_x</th>\n",
       "      <th>cuisine_x</th>\n",
       "      <th>category_y</th>\n",
       "      <th>cuisine_y</th>\n",
       "      <th>category_x</th>\n",
       "      <th>cuisine_x</th>\n",
       "      <th>category_y</th>\n",
       "      <th>cuisine_y</th>\n",
       "      <th>category</th>\n",
       "      <th>cuisine</th>\n",
       "    </tr>\n",
       "  </thead>\n",
       "  <tbody>\n",
       "    <tr>\n",
       "      <th>0</th>\n",
       "      <td>1379560</td>\n",
       "      <td>1</td>\n",
       "      <td>55</td>\n",
       "      <td>1885</td>\n",
       "      <td>136.83</td>\n",
       "      <td>152.29</td>\n",
       "      <td>0</td>\n",
       "      <td>0</td>\n",
       "      <td>647</td>\n",
       "      <td>56</td>\n",
       "      <td>TYPE_C</td>\n",
       "      <td>2.0</td>\n",
       "      <td>Beverages</td>\n",
       "      <td>Thai</td>\n",
       "      <td>1</td>\n",
       "      <td>1</td>\n",
       "      <td>1</td>\n",
       "      <td>1</td>\n",
       "      <td>Beverages</td>\n",
       "      <td>Thai</td>\n",
       "      <td>Beverages</td>\n",
       "      <td>Thai</td>\n",
       "      <td>Beverages</td>\n",
       "      <td>Thai</td>\n",
       "      <td>Beverages</td>\n",
       "      <td>Thai</td>\n",
       "      <td>Beverages</td>\n",
       "      <td>Thai</td>\n",
       "      <td>Beverages</td>\n",
       "      <td>Thai</td>\n",
       "    </tr>\n",
       "    <tr>\n",
       "      <th>1</th>\n",
       "      <td>1466964</td>\n",
       "      <td>1</td>\n",
       "      <td>55</td>\n",
       "      <td>1993</td>\n",
       "      <td>136.83</td>\n",
       "      <td>135.83</td>\n",
       "      <td>0</td>\n",
       "      <td>0</td>\n",
       "      <td>647</td>\n",
       "      <td>56</td>\n",
       "      <td>TYPE_C</td>\n",
       "      <td>2.0</td>\n",
       "      <td>Beverages</td>\n",
       "      <td>Thai</td>\n",
       "      <td>1</td>\n",
       "      <td>1</td>\n",
       "      <td>1</td>\n",
       "      <td>1</td>\n",
       "      <td>Beverages</td>\n",
       "      <td>Thai</td>\n",
       "      <td>Beverages</td>\n",
       "      <td>Thai</td>\n",
       "      <td>Beverages</td>\n",
       "      <td>Thai</td>\n",
       "      <td>Beverages</td>\n",
       "      <td>Thai</td>\n",
       "      <td>Beverages</td>\n",
       "      <td>Thai</td>\n",
       "      <td>Beverages</td>\n",
       "      <td>Thai</td>\n",
       "    </tr>\n",
       "    <tr>\n",
       "      <th>2</th>\n",
       "      <td>1346989</td>\n",
       "      <td>1</td>\n",
       "      <td>55</td>\n",
       "      <td>2539</td>\n",
       "      <td>134.86</td>\n",
       "      <td>135.86</td>\n",
       "      <td>0</td>\n",
       "      <td>0</td>\n",
       "      <td>647</td>\n",
       "      <td>56</td>\n",
       "      <td>TYPE_C</td>\n",
       "      <td>2.0</td>\n",
       "      <td>Beverages</td>\n",
       "      <td>Thai</td>\n",
       "      <td>1</td>\n",
       "      <td>1</td>\n",
       "      <td>1</td>\n",
       "      <td>1</td>\n",
       "      <td>Beverages</td>\n",
       "      <td>Thai</td>\n",
       "      <td>Beverages</td>\n",
       "      <td>Thai</td>\n",
       "      <td>Beverages</td>\n",
       "      <td>Thai</td>\n",
       "      <td>Beverages</td>\n",
       "      <td>Thai</td>\n",
       "      <td>Beverages</td>\n",
       "      <td>Thai</td>\n",
       "      <td>Beverages</td>\n",
       "      <td>Thai</td>\n",
       "    </tr>\n",
       "    <tr>\n",
       "      <th>3</th>\n",
       "      <td>1338232</td>\n",
       "      <td>1</td>\n",
       "      <td>55</td>\n",
       "      <td>2139</td>\n",
       "      <td>339.50</td>\n",
       "      <td>437.53</td>\n",
       "      <td>0</td>\n",
       "      <td>0</td>\n",
       "      <td>647</td>\n",
       "      <td>56</td>\n",
       "      <td>TYPE_C</td>\n",
       "      <td>2.0</td>\n",
       "      <td>Beverages</td>\n",
       "      <td>Indian</td>\n",
       "      <td>1</td>\n",
       "      <td>1</td>\n",
       "      <td>1</td>\n",
       "      <td>1</td>\n",
       "      <td>Beverages</td>\n",
       "      <td>Indian</td>\n",
       "      <td>Beverages</td>\n",
       "      <td>Indian</td>\n",
       "      <td>Beverages</td>\n",
       "      <td>Indian</td>\n",
       "      <td>Beverages</td>\n",
       "      <td>Indian</td>\n",
       "      <td>Beverages</td>\n",
       "      <td>Indian</td>\n",
       "      <td>Beverages</td>\n",
       "      <td>Indian</td>\n",
       "    </tr>\n",
       "    <tr>\n",
       "      <th>4</th>\n",
       "      <td>1448490</td>\n",
       "      <td>1</td>\n",
       "      <td>55</td>\n",
       "      <td>2631</td>\n",
       "      <td>243.50</td>\n",
       "      <td>242.50</td>\n",
       "      <td>0</td>\n",
       "      <td>0</td>\n",
       "      <td>647</td>\n",
       "      <td>56</td>\n",
       "      <td>TYPE_C</td>\n",
       "      <td>2.0</td>\n",
       "      <td>Beverages</td>\n",
       "      <td>Indian</td>\n",
       "      <td>1</td>\n",
       "      <td>1</td>\n",
       "      <td>1</td>\n",
       "      <td>1</td>\n",
       "      <td>Beverages</td>\n",
       "      <td>Indian</td>\n",
       "      <td>Beverages</td>\n",
       "      <td>Indian</td>\n",
       "      <td>Beverages</td>\n",
       "      <td>Indian</td>\n",
       "      <td>Beverages</td>\n",
       "      <td>Indian</td>\n",
       "      <td>Beverages</td>\n",
       "      <td>Indian</td>\n",
       "      <td>Beverages</td>\n",
       "      <td>Indian</td>\n",
       "    </tr>\n",
       "    <tr>\n",
       "      <th>...</th>\n",
       "      <td>...</td>\n",
       "      <td>...</td>\n",
       "      <td>...</td>\n",
       "      <td>...</td>\n",
       "      <td>...</td>\n",
       "      <td>...</td>\n",
       "      <td>...</td>\n",
       "      <td>...</td>\n",
       "      <td>...</td>\n",
       "      <td>...</td>\n",
       "      <td>...</td>\n",
       "      <td>...</td>\n",
       "      <td>...</td>\n",
       "      <td>...</td>\n",
       "      <td>...</td>\n",
       "      <td>...</td>\n",
       "      <td>...</td>\n",
       "      <td>...</td>\n",
       "      <td>...</td>\n",
       "      <td>...</td>\n",
       "      <td>...</td>\n",
       "      <td>...</td>\n",
       "      <td>...</td>\n",
       "      <td>...</td>\n",
       "      <td>...</td>\n",
       "      <td>...</td>\n",
       "      <td>...</td>\n",
       "      <td>...</td>\n",
       "      <td>...</td>\n",
       "      <td>...</td>\n",
       "    </tr>\n",
       "    <tr>\n",
       "      <th>489116</th>\n",
       "      <td>1250239</td>\n",
       "      <td>155</td>\n",
       "      <td>61</td>\n",
       "      <td>1543</td>\n",
       "      <td>482.09</td>\n",
       "      <td>484.09</td>\n",
       "      <td>0</td>\n",
       "      <td>0</td>\n",
       "      <td>473</td>\n",
       "      <td>77</td>\n",
       "      <td>TYPE_A</td>\n",
       "      <td>4.5</td>\n",
       "      <td>Desert</td>\n",
       "      <td>Indian</td>\n",
       "      <td>3</td>\n",
       "      <td>13</td>\n",
       "      <td>4</td>\n",
       "      <td>3</td>\n",
       "      <td>Desert</td>\n",
       "      <td>Indian</td>\n",
       "      <td>Desert</td>\n",
       "      <td>Indian</td>\n",
       "      <td>Desert</td>\n",
       "      <td>Indian</td>\n",
       "      <td>Desert</td>\n",
       "      <td>Indian</td>\n",
       "      <td>Desert</td>\n",
       "      <td>Indian</td>\n",
       "      <td>Desert</td>\n",
       "      <td>Indian</td>\n",
       "    </tr>\n",
       "    <tr>\n",
       "      <th>489117</th>\n",
       "      <td>1039516</td>\n",
       "      <td>155</td>\n",
       "      <td>61</td>\n",
       "      <td>2304</td>\n",
       "      <td>483.09</td>\n",
       "      <td>483.09</td>\n",
       "      <td>0</td>\n",
       "      <td>0</td>\n",
       "      <td>473</td>\n",
       "      <td>77</td>\n",
       "      <td>TYPE_A</td>\n",
       "      <td>4.5</td>\n",
       "      <td>Desert</td>\n",
       "      <td>Indian</td>\n",
       "      <td>3</td>\n",
       "      <td>13</td>\n",
       "      <td>4</td>\n",
       "      <td>3</td>\n",
       "      <td>Desert</td>\n",
       "      <td>Indian</td>\n",
       "      <td>Desert</td>\n",
       "      <td>Indian</td>\n",
       "      <td>Desert</td>\n",
       "      <td>Indian</td>\n",
       "      <td>Desert</td>\n",
       "      <td>Indian</td>\n",
       "      <td>Desert</td>\n",
       "      <td>Indian</td>\n",
       "      <td>Desert</td>\n",
       "      <td>Indian</td>\n",
       "    </tr>\n",
       "    <tr>\n",
       "      <th>489118</th>\n",
       "      <td>1158107</td>\n",
       "      <td>155</td>\n",
       "      <td>61</td>\n",
       "      <td>2664</td>\n",
       "      <td>322.07</td>\n",
       "      <td>323.07</td>\n",
       "      <td>0</td>\n",
       "      <td>0</td>\n",
       "      <td>473</td>\n",
       "      <td>77</td>\n",
       "      <td>TYPE_A</td>\n",
       "      <td>4.5</td>\n",
       "      <td>Salad</td>\n",
       "      <td>Italian</td>\n",
       "      <td>3</td>\n",
       "      <td>13</td>\n",
       "      <td>4</td>\n",
       "      <td>3</td>\n",
       "      <td>Salad</td>\n",
       "      <td>Italian</td>\n",
       "      <td>Salad</td>\n",
       "      <td>Italian</td>\n",
       "      <td>Salad</td>\n",
       "      <td>Italian</td>\n",
       "      <td>Salad</td>\n",
       "      <td>Italian</td>\n",
       "      <td>Salad</td>\n",
       "      <td>Italian</td>\n",
       "      <td>Salad</td>\n",
       "      <td>Italian</td>\n",
       "    </tr>\n",
       "    <tr>\n",
       "      <th>489119</th>\n",
       "      <td>1444235</td>\n",
       "      <td>155</td>\n",
       "      <td>61</td>\n",
       "      <td>2569</td>\n",
       "      <td>322.07</td>\n",
       "      <td>323.07</td>\n",
       "      <td>0</td>\n",
       "      <td>0</td>\n",
       "      <td>473</td>\n",
       "      <td>77</td>\n",
       "      <td>TYPE_A</td>\n",
       "      <td>4.5</td>\n",
       "      <td>Salad</td>\n",
       "      <td>Italian</td>\n",
       "      <td>3</td>\n",
       "      <td>13</td>\n",
       "      <td>4</td>\n",
       "      <td>3</td>\n",
       "      <td>Salad</td>\n",
       "      <td>Italian</td>\n",
       "      <td>Salad</td>\n",
       "      <td>Italian</td>\n",
       "      <td>Salad</td>\n",
       "      <td>Italian</td>\n",
       "      <td>Salad</td>\n",
       "      <td>Italian</td>\n",
       "      <td>Salad</td>\n",
       "      <td>Italian</td>\n",
       "      <td>Salad</td>\n",
       "      <td>Italian</td>\n",
       "    </tr>\n",
       "    <tr>\n",
       "      <th>489120</th>\n",
       "      <td>1291286</td>\n",
       "      <td>155</td>\n",
       "      <td>61</td>\n",
       "      <td>2490</td>\n",
       "      <td>276.45</td>\n",
       "      <td>276.45</td>\n",
       "      <td>0</td>\n",
       "      <td>0</td>\n",
       "      <td>473</td>\n",
       "      <td>77</td>\n",
       "      <td>TYPE_A</td>\n",
       "      <td>4.5</td>\n",
       "      <td>Salad</td>\n",
       "      <td>Italian</td>\n",
       "      <td>3</td>\n",
       "      <td>13</td>\n",
       "      <td>4</td>\n",
       "      <td>3</td>\n",
       "      <td>Salad</td>\n",
       "      <td>Italian</td>\n",
       "      <td>Salad</td>\n",
       "      <td>Italian</td>\n",
       "      <td>Salad</td>\n",
       "      <td>Italian</td>\n",
       "      <td>Salad</td>\n",
       "      <td>Italian</td>\n",
       "      <td>Salad</td>\n",
       "      <td>Italian</td>\n",
       "      <td>Salad</td>\n",
       "      <td>Italian</td>\n",
       "    </tr>\n",
       "  </tbody>\n",
       "</table>\n",
       "<p>489121 rows × 30 columns</p>\n",
       "</div>"
      ],
      "text/plain": [
       "             id  week  center_id  meal_id  checkout_price  base_price  \\\n",
       "0       1379560     1         55     1885          136.83      152.29   \n",
       "1       1466964     1         55     1993          136.83      135.83   \n",
       "2       1346989     1         55     2539          134.86      135.86   \n",
       "3       1338232     1         55     2139          339.50      437.53   \n",
       "4       1448490     1         55     2631          243.50      242.50   \n",
       "...         ...   ...        ...      ...             ...         ...   \n",
       "489116  1250239   155         61     1543          482.09      484.09   \n",
       "489117  1039516   155         61     2304          483.09      483.09   \n",
       "489118  1158107   155         61     2664          322.07      323.07   \n",
       "489119  1444235   155         61     2569          322.07      323.07   \n",
       "489120  1291286   155         61     2490          276.45      276.45   \n",
       "\n",
       "        emailer_for_promotion  homepage_featured  city_code  region_code  \\\n",
       "0                           0                  0        647           56   \n",
       "1                           0                  0        647           56   \n",
       "2                           0                  0        647           56   \n",
       "3                           0                  0        647           56   \n",
       "4                           0                  0        647           56   \n",
       "...                       ...                ...        ...          ...   \n",
       "489116                      0                  0        473           77   \n",
       "489117                      0                  0        473           77   \n",
       "489118                      0                  0        473           77   \n",
       "489119                      0                  0        473           77   \n",
       "489120                      0                  0        473           77   \n",
       "\n",
       "       center_type  op_area category_x cuisine_x  year  month  quarter  \\\n",
       "0           TYPE_C      2.0  Beverages      Thai     1      1        1   \n",
       "1           TYPE_C      2.0  Beverages      Thai     1      1        1   \n",
       "2           TYPE_C      2.0  Beverages      Thai     1      1        1   \n",
       "3           TYPE_C      2.0  Beverages    Indian     1      1        1   \n",
       "4           TYPE_C      2.0  Beverages    Indian     1      1        1   \n",
       "...            ...      ...        ...       ...   ...    ...      ...   \n",
       "489116      TYPE_A      4.5     Desert    Indian     3     13        4   \n",
       "489117      TYPE_A      4.5     Desert    Indian     3     13        4   \n",
       "489118      TYPE_A      4.5      Salad   Italian     3     13        4   \n",
       "489119      TYPE_A      4.5      Salad   Italian     3     13        4   \n",
       "489120      TYPE_A      4.5      Salad   Italian     3     13        4   \n",
       "\n",
       "        week_in_month category_y cuisine_y category_x cuisine_x category_y  \\\n",
       "0                   1  Beverages      Thai  Beverages      Thai  Beverages   \n",
       "1                   1  Beverages      Thai  Beverages      Thai  Beverages   \n",
       "2                   1  Beverages      Thai  Beverages      Thai  Beverages   \n",
       "3                   1  Beverages    Indian  Beverages    Indian  Beverages   \n",
       "4                   1  Beverages    Indian  Beverages    Indian  Beverages   \n",
       "...               ...        ...       ...        ...       ...        ...   \n",
       "489116              3     Desert    Indian     Desert    Indian     Desert   \n",
       "489117              3     Desert    Indian     Desert    Indian     Desert   \n",
       "489118              3      Salad   Italian      Salad   Italian      Salad   \n",
       "489119              3      Salad   Italian      Salad   Italian      Salad   \n",
       "489120              3      Salad   Italian      Salad   Italian      Salad   \n",
       "\n",
       "       cuisine_y category_x cuisine_x category_y cuisine_y   category  cuisine  \n",
       "0           Thai  Beverages      Thai  Beverages      Thai  Beverages     Thai  \n",
       "1           Thai  Beverages      Thai  Beverages      Thai  Beverages     Thai  \n",
       "2           Thai  Beverages      Thai  Beverages      Thai  Beverages     Thai  \n",
       "3         Indian  Beverages    Indian  Beverages    Indian  Beverages   Indian  \n",
       "4         Indian  Beverages    Indian  Beverages    Indian  Beverages   Indian  \n",
       "...          ...        ...       ...        ...       ...        ...      ...  \n",
       "489116    Indian     Desert    Indian     Desert    Indian     Desert   Indian  \n",
       "489117    Indian     Desert    Indian     Desert    Indian     Desert   Indian  \n",
       "489118   Italian      Salad   Italian      Salad   Italian      Salad  Italian  \n",
       "489119   Italian      Salad   Italian      Salad   Italian      Salad  Italian  \n",
       "489120   Italian      Salad   Italian      Salad   Italian      Salad  Italian  \n",
       "\n",
       "[489121 rows x 30 columns]"
      ]
     },
     "execution_count": 109,
     "metadata": {},
     "output_type": "execute_result"
    }
   ],
   "source": [
    "total_data = total_data.merge(df_meal, on='meal_id', how='left')\n",
    "total_data"
   ]
  },
  {
   "cell_type": "code",
   "execution_count": 44,
   "metadata": {},
   "outputs": [
    {
     "name": "stdout",
     "output_type": "stream",
     "text": [
      "<class 'pandas.core.frame.DataFrame'>\n",
      "Int64Index: 489121 entries, 0 to 489120\n",
      "Data columns (total 14 columns):\n",
      " #   Column                 Non-Null Count   Dtype  \n",
      "---  ------                 --------------   -----  \n",
      " 0   id                     489121 non-null  int64  \n",
      " 1   week                   489121 non-null  int64  \n",
      " 2   center_id              489121 non-null  int64  \n",
      " 3   meal_id                489121 non-null  int64  \n",
      " 4   checkout_price         489121 non-null  float64\n",
      " 5   base_price             489121 non-null  float64\n",
      " 6   emailer_for_promotion  489121 non-null  int64  \n",
      " 7   homepage_featured      489121 non-null  int64  \n",
      " 8   city_code              489121 non-null  int64  \n",
      " 9   region_code            489121 non-null  int64  \n",
      " 10  center_type            489121 non-null  object \n",
      " 11  op_area                489121 non-null  float64\n",
      " 12  category               489121 non-null  object \n",
      " 13  cuisine                489121 non-null  object \n",
      "dtypes: float64(3), int64(8), object(3)\n",
      "memory usage: 56.0+ MB\n"
     ]
    }
   ],
   "source": [
    "total_data.info()"
   ]
  },
  {
   "attachments": {},
   "cell_type": "markdown",
   "metadata": {},
   "source": [
    "## Feature Engineering"
   ]
  },
  {
   "cell_type": "code",
   "execution_count": 45,
   "metadata": {},
   "outputs": [
    {
     "data": {
      "text/html": [
       "<div>\n",
       "<style scoped>\n",
       "    .dataframe tbody tr th:only-of-type {\n",
       "        vertical-align: middle;\n",
       "    }\n",
       "\n",
       "    .dataframe tbody tr th {\n",
       "        vertical-align: top;\n",
       "    }\n",
       "\n",
       "    .dataframe thead th {\n",
       "        text-align: right;\n",
       "    }\n",
       "</style>\n",
       "<table border=\"1\" class=\"dataframe\">\n",
       "  <thead>\n",
       "    <tr style=\"text-align: right;\">\n",
       "      <th></th>\n",
       "      <th></th>\n",
       "      <th></th>\n",
       "      <th>base_price</th>\n",
       "    </tr>\n",
       "    <tr>\n",
       "      <th>meal_id</th>\n",
       "      <th>center_id</th>\n",
       "      <th>week</th>\n",
       "      <th></th>\n",
       "    </tr>\n",
       "  </thead>\n",
       "  <tbody>\n",
       "    <tr>\n",
       "      <th rowspan=\"10\" valign=\"top\">1062</th>\n",
       "      <th rowspan=\"10\" valign=\"top\">10</th>\n",
       "      <th>1</th>\n",
       "      <td>181.39</td>\n",
       "    </tr>\n",
       "    <tr>\n",
       "      <th>2</th>\n",
       "      <td>182.36</td>\n",
       "    </tr>\n",
       "    <tr>\n",
       "      <th>3</th>\n",
       "      <td>182.36</td>\n",
       "    </tr>\n",
       "    <tr>\n",
       "      <th>4</th>\n",
       "      <td>183.36</td>\n",
       "    </tr>\n",
       "    <tr>\n",
       "      <th>5</th>\n",
       "      <td>181.39</td>\n",
       "    </tr>\n",
       "    <tr>\n",
       "      <th>6</th>\n",
       "      <td>183.39</td>\n",
       "    </tr>\n",
       "    <tr>\n",
       "      <th>7</th>\n",
       "      <td>183.39</td>\n",
       "    </tr>\n",
       "    <tr>\n",
       "      <th>8</th>\n",
       "      <td>182.39</td>\n",
       "    </tr>\n",
       "    <tr>\n",
       "      <th>9</th>\n",
       "      <td>182.39</td>\n",
       "    </tr>\n",
       "    <tr>\n",
       "      <th>10</th>\n",
       "      <td>181.39</td>\n",
       "    </tr>\n",
       "  </tbody>\n",
       "</table>\n",
       "</div>"
      ],
      "text/plain": [
       "                        base_price\n",
       "meal_id center_id week            \n",
       "1062    10        1         181.39\n",
       "                  2         182.36\n",
       "                  3         182.36\n",
       "                  4         183.36\n",
       "                  5         181.39\n",
       "                  6         183.39\n",
       "                  7         183.39\n",
       "                  8         182.39\n",
       "                  9         182.39\n",
       "                  10        181.39"
      ]
     },
     "execution_count": 45,
     "metadata": {},
     "output_type": "execute_result"
    }
   ],
   "source": [
    "meal_base_price = total_data[['week', 'center_id', 'meal_id', 'base_price']]\n",
    "meal_base_price = meal_base_price.set_index(['meal_id', 'center_id', 'week'])\n",
    "meal_base_price = meal_base_price.sort_index()\n",
    "meal_base_price.head(10)"
   ]
  },
  {
   "cell_type": "code",
   "execution_count": 46,
   "metadata": {},
   "outputs": [
    {
     "data": {
      "text/html": [
       "<div>\n",
       "<style scoped>\n",
       "    .dataframe tbody tr th:only-of-type {\n",
       "        vertical-align: middle;\n",
       "    }\n",
       "\n",
       "    .dataframe tbody tr th {\n",
       "        vertical-align: top;\n",
       "    }\n",
       "\n",
       "    .dataframe thead th {\n",
       "        text-align: right;\n",
       "    }\n",
       "</style>\n",
       "<table border=\"1\" class=\"dataframe\">\n",
       "  <thead>\n",
       "    <tr style=\"text-align: right;\">\n",
       "      <th></th>\n",
       "      <th></th>\n",
       "      <th></th>\n",
       "      <th>num_orders</th>\n",
       "    </tr>\n",
       "    <tr>\n",
       "      <th>meal_id</th>\n",
       "      <th>center_id</th>\n",
       "      <th>week</th>\n",
       "      <th></th>\n",
       "    </tr>\n",
       "  </thead>\n",
       "  <tbody>\n",
       "    <tr>\n",
       "      <th rowspan=\"10\" valign=\"top\">1062</th>\n",
       "      <th rowspan=\"10\" valign=\"top\">10</th>\n",
       "      <th>1</th>\n",
       "      <td>865</td>\n",
       "    </tr>\n",
       "    <tr>\n",
       "      <th>2</th>\n",
       "      <td>782</td>\n",
       "    </tr>\n",
       "    <tr>\n",
       "      <th>3</th>\n",
       "      <td>851</td>\n",
       "    </tr>\n",
       "    <tr>\n",
       "      <th>4</th>\n",
       "      <td>1202</td>\n",
       "    </tr>\n",
       "    <tr>\n",
       "      <th>5</th>\n",
       "      <td>958</td>\n",
       "    </tr>\n",
       "    <tr>\n",
       "      <th>6</th>\n",
       "      <td>1094</td>\n",
       "    </tr>\n",
       "    <tr>\n",
       "      <th>7</th>\n",
       "      <td>1513</td>\n",
       "    </tr>\n",
       "    <tr>\n",
       "      <th>8</th>\n",
       "      <td>1149</td>\n",
       "    </tr>\n",
       "    <tr>\n",
       "      <th>9</th>\n",
       "      <td>1282</td>\n",
       "    </tr>\n",
       "    <tr>\n",
       "      <th>10</th>\n",
       "      <td>1473</td>\n",
       "    </tr>\n",
       "  </tbody>\n",
       "</table>\n",
       "</div>"
      ],
      "text/plain": [
       "                        num_orders\n",
       "meal_id center_id week            \n",
       "1062    10        1            865\n",
       "                  2            782\n",
       "                  3            851\n",
       "                  4           1202\n",
       "                  5            958\n",
       "                  6           1094\n",
       "                  7           1513\n",
       "                  8           1149\n",
       "                  9           1282\n",
       "                  10          1473"
      ]
     },
     "execution_count": 46,
     "metadata": {},
     "output_type": "execute_result"
    }
   ],
   "source": [
    "meal_per_center = df_train[['week', 'center_id', 'meal_id', 'num_orders']]\n",
    "meal_per_center = meal_per_center.set_index(['meal_id', 'center_id', 'week'])\n",
    "meal_per_center = meal_per_center.sort_index()\n",
    "meal_per_center.head(10)"
   ]
  },
  {
   "cell_type": "code",
   "execution_count": 47,
   "metadata": {},
   "outputs": [
    {
     "data": {
      "text/html": [
       "<div>\n",
       "<style scoped>\n",
       "    .dataframe tbody tr th:only-of-type {\n",
       "        vertical-align: middle;\n",
       "    }\n",
       "\n",
       "    .dataframe tbody tr th {\n",
       "        vertical-align: top;\n",
       "    }\n",
       "\n",
       "    .dataframe thead th {\n",
       "        text-align: right;\n",
       "    }\n",
       "</style>\n",
       "<table border=\"1\" class=\"dataframe\">\n",
       "  <thead>\n",
       "    <tr style=\"text-align: right;\">\n",
       "      <th></th>\n",
       "      <th></th>\n",
       "      <th>num_orders</th>\n",
       "    </tr>\n",
       "    <tr>\n",
       "      <th>meal_id</th>\n",
       "      <th>week</th>\n",
       "      <th></th>\n",
       "    </tr>\n",
       "  </thead>\n",
       "  <tbody>\n",
       "    <tr>\n",
       "      <th rowspan=\"5\" valign=\"top\">1062</th>\n",
       "      <th>1</th>\n",
       "      <td>391</td>\n",
       "    </tr>\n",
       "    <tr>\n",
       "      <th>1</th>\n",
       "      <td>514</td>\n",
       "    </tr>\n",
       "    <tr>\n",
       "      <th>1</th>\n",
       "      <td>798</td>\n",
       "    </tr>\n",
       "    <tr>\n",
       "      <th>1</th>\n",
       "      <td>284</td>\n",
       "    </tr>\n",
       "    <tr>\n",
       "      <th>1</th>\n",
       "      <td>256</td>\n",
       "    </tr>\n",
       "  </tbody>\n",
       "</table>\n",
       "</div>"
      ],
      "text/plain": [
       "              num_orders\n",
       "meal_id week            \n",
       "1062    1            391\n",
       "        1            514\n",
       "        1            798\n",
       "        1            284\n",
       "        1            256"
      ]
     },
     "execution_count": 47,
     "metadata": {},
     "output_type": "execute_result"
    }
   ],
   "source": [
    "meal_across_center = df_train[['week', 'meal_id', 'num_orders']]\n",
    "meal_across_center = meal_across_center.set_index(['meal_id', 'week'])\n",
    "meal_across_center = meal_across_center.sort_index()\n",
    "meal_across_center.head()"
   ]
  },
  {
   "cell_type": "code",
   "execution_count": 48,
   "metadata": {},
   "outputs": [
    {
     "data": {
      "text/plain": [
       "3    167103\n",
       "2    167029\n",
       "1    154989\n",
       "Name: year, dtype: int64"
      ]
     },
     "execution_count": 48,
     "metadata": {},
     "output_type": "execute_result"
    }
   ],
   "source": [
    "total_data['year'] = (((total_data['week'] - 1)/52) + 1).astype('int')\n",
    "total_data.year.value_counts()"
   ]
  },
  {
   "cell_type": "code",
   "execution_count": 49,
   "metadata": {},
   "outputs": [
    {
     "data": {
      "text/plain": [
       "11    38625\n",
       "12    38474\n",
       "8     38345\n",
       "9     38278\n",
       "10    38242\n",
       "7     38040\n",
       "5     37940\n",
       "6     37724\n",
       "1     37390\n",
       "4     37270\n",
       "3     37011\n",
       "2     36849\n",
       "13    34933\n",
       "Name: month, dtype: int64"
      ]
     },
     "execution_count": 49,
     "metadata": {},
     "output_type": "execute_result"
    }
   ],
   "source": [
    "total_data['month'] = (((total_data['week'] - 1)/4).astype('int') % 13) + 1\n",
    "total_data.month.value_counts()"
   ]
  },
  {
   "cell_type": "code",
   "execution_count": 50,
   "metadata": {},
   "outputs": [
    {
     "data": {
      "text/plain": [
       "3    124373\n",
       "2    122513\n",
       "4    121634\n",
       "1    120601\n",
       "Name: quarter, dtype: int64"
      ]
     },
     "execution_count": 50,
     "metadata": {},
     "output_type": "execute_result"
    }
   ],
   "source": [
    "total_data['quarter'] = (((total_data['week'] - 1)/13).astype('int') % 4) + 1\n",
    "total_data.quarter.value_counts()"
   ]
  },
  {
   "cell_type": "code",
   "execution_count": 51,
   "metadata": {},
   "outputs": [
    {
     "data": {
      "text/plain": [
       "1    123367\n",
       "2    122940\n",
       "3    122788\n",
       "4    120026\n",
       "Name: week_in_month, dtype: int64"
      ]
     },
     "execution_count": 51,
     "metadata": {},
     "output_type": "execute_result"
    }
   ],
   "source": [
    "total_data['week_in_month'] = (((total_data['week'] - 1) % 4) + 1)\n",
    "total_data.week_in_month.value_counts()"
   ]
  },
  {
   "attachments": {},
   "cell_type": "markdown",
   "metadata": {},
   "source": [
    "Splitting total_data to training data and testing data"
   ]
  },
  {
   "cell_type": "code",
   "execution_count": 52,
   "metadata": {},
   "outputs": [
    {
     "data": {
      "text/html": [
       "<div>\n",
       "<style scoped>\n",
       "    .dataframe tbody tr th:only-of-type {\n",
       "        vertical-align: middle;\n",
       "    }\n",
       "\n",
       "    .dataframe tbody tr th {\n",
       "        vertical-align: top;\n",
       "    }\n",
       "\n",
       "    .dataframe thead th {\n",
       "        text-align: right;\n",
       "    }\n",
       "</style>\n",
       "<table border=\"1\" class=\"dataframe\">\n",
       "  <thead>\n",
       "    <tr style=\"text-align: right;\">\n",
       "      <th></th>\n",
       "      <th>id</th>\n",
       "      <th>num_orders</th>\n",
       "      <th>week</th>\n",
       "      <th>center_id</th>\n",
       "      <th>meal_id</th>\n",
       "      <th>checkout_price</th>\n",
       "      <th>base_price</th>\n",
       "      <th>emailer_for_promotion</th>\n",
       "      <th>homepage_featured</th>\n",
       "      <th>city_code</th>\n",
       "      <th>region_code</th>\n",
       "      <th>center_type</th>\n",
       "      <th>op_area</th>\n",
       "      <th>category</th>\n",
       "      <th>cuisine</th>\n",
       "      <th>year</th>\n",
       "      <th>month</th>\n",
       "      <th>quarter</th>\n",
       "      <th>week_in_month</th>\n",
       "    </tr>\n",
       "  </thead>\n",
       "  <tbody>\n",
       "    <tr>\n",
       "      <th>0</th>\n",
       "      <td>1379560</td>\n",
       "      <td>177</td>\n",
       "      <td>1</td>\n",
       "      <td>55</td>\n",
       "      <td>1885</td>\n",
       "      <td>136.83</td>\n",
       "      <td>152.29</td>\n",
       "      <td>0</td>\n",
       "      <td>0</td>\n",
       "      <td>647</td>\n",
       "      <td>56</td>\n",
       "      <td>TYPE_C</td>\n",
       "      <td>2.0</td>\n",
       "      <td>Beverages</td>\n",
       "      <td>Thai</td>\n",
       "      <td>1</td>\n",
       "      <td>1</td>\n",
       "      <td>1</td>\n",
       "      <td>1</td>\n",
       "    </tr>\n",
       "    <tr>\n",
       "      <th>1</th>\n",
       "      <td>1466964</td>\n",
       "      <td>270</td>\n",
       "      <td>1</td>\n",
       "      <td>55</td>\n",
       "      <td>1993</td>\n",
       "      <td>136.83</td>\n",
       "      <td>135.83</td>\n",
       "      <td>0</td>\n",
       "      <td>0</td>\n",
       "      <td>647</td>\n",
       "      <td>56</td>\n",
       "      <td>TYPE_C</td>\n",
       "      <td>2.0</td>\n",
       "      <td>Beverages</td>\n",
       "      <td>Thai</td>\n",
       "      <td>1</td>\n",
       "      <td>1</td>\n",
       "      <td>1</td>\n",
       "      <td>1</td>\n",
       "    </tr>\n",
       "    <tr>\n",
       "      <th>2</th>\n",
       "      <td>1346989</td>\n",
       "      <td>189</td>\n",
       "      <td>1</td>\n",
       "      <td>55</td>\n",
       "      <td>2539</td>\n",
       "      <td>134.86</td>\n",
       "      <td>135.86</td>\n",
       "      <td>0</td>\n",
       "      <td>0</td>\n",
       "      <td>647</td>\n",
       "      <td>56</td>\n",
       "      <td>TYPE_C</td>\n",
       "      <td>2.0</td>\n",
       "      <td>Beverages</td>\n",
       "      <td>Thai</td>\n",
       "      <td>1</td>\n",
       "      <td>1</td>\n",
       "      <td>1</td>\n",
       "      <td>1</td>\n",
       "    </tr>\n",
       "    <tr>\n",
       "      <th>3</th>\n",
       "      <td>1338232</td>\n",
       "      <td>54</td>\n",
       "      <td>1</td>\n",
       "      <td>55</td>\n",
       "      <td>2139</td>\n",
       "      <td>339.50</td>\n",
       "      <td>437.53</td>\n",
       "      <td>0</td>\n",
       "      <td>0</td>\n",
       "      <td>647</td>\n",
       "      <td>56</td>\n",
       "      <td>TYPE_C</td>\n",
       "      <td>2.0</td>\n",
       "      <td>Beverages</td>\n",
       "      <td>Indian</td>\n",
       "      <td>1</td>\n",
       "      <td>1</td>\n",
       "      <td>1</td>\n",
       "      <td>1</td>\n",
       "    </tr>\n",
       "    <tr>\n",
       "      <th>4</th>\n",
       "      <td>1448490</td>\n",
       "      <td>40</td>\n",
       "      <td>1</td>\n",
       "      <td>55</td>\n",
       "      <td>2631</td>\n",
       "      <td>243.50</td>\n",
       "      <td>242.50</td>\n",
       "      <td>0</td>\n",
       "      <td>0</td>\n",
       "      <td>647</td>\n",
       "      <td>56</td>\n",
       "      <td>TYPE_C</td>\n",
       "      <td>2.0</td>\n",
       "      <td>Beverages</td>\n",
       "      <td>Indian</td>\n",
       "      <td>1</td>\n",
       "      <td>1</td>\n",
       "      <td>1</td>\n",
       "      <td>1</td>\n",
       "    </tr>\n",
       "  </tbody>\n",
       "</table>\n",
       "</div>"
      ],
      "text/plain": [
       "        id  num_orders  week  center_id  meal_id  checkout_price  base_price  \\\n",
       "0  1379560         177     1         55     1885          136.83      152.29   \n",
       "1  1466964         270     1         55     1993          136.83      135.83   \n",
       "2  1346989         189     1         55     2539          134.86      135.86   \n",
       "3  1338232          54     1         55     2139          339.50      437.53   \n",
       "4  1448490          40     1         55     2631          243.50      242.50   \n",
       "\n",
       "   emailer_for_promotion  homepage_featured  city_code  region_code  \\\n",
       "0                      0                  0        647           56   \n",
       "1                      0                  0        647           56   \n",
       "2                      0                  0        647           56   \n",
       "3                      0                  0        647           56   \n",
       "4                      0                  0        647           56   \n",
       "\n",
       "  center_type  op_area   category cuisine  year  month  quarter  week_in_month  \n",
       "0      TYPE_C      2.0  Beverages    Thai     1      1        1              1  \n",
       "1      TYPE_C      2.0  Beverages    Thai     1      1        1              1  \n",
       "2      TYPE_C      2.0  Beverages    Thai     1      1        1              1  \n",
       "3      TYPE_C      2.0  Beverages  Indian     1      1        1              1  \n",
       "4      TYPE_C      2.0  Beverages  Indian     1      1        1              1  "
      ]
     },
     "execution_count": 52,
     "metadata": {},
     "output_type": "execute_result"
    }
   ],
   "source": [
    "training_data = df_train[['id', 'num_orders']].merge(total_data, on='id', how='left')\n",
    "training_data.head()"
   ]
  },
  {
   "cell_type": "code",
   "execution_count": 53,
   "metadata": {},
   "outputs": [
    {
     "name": "stdout",
     "output_type": "stream",
     "text": [
      "<class 'pandas.core.frame.DataFrame'>\n",
      "Int64Index: 456548 entries, 0 to 456547\n",
      "Data columns (total 19 columns):\n",
      " #   Column                 Non-Null Count   Dtype  \n",
      "---  ------                 --------------   -----  \n",
      " 0   id                     456548 non-null  int64  \n",
      " 1   num_orders             456548 non-null  int64  \n",
      " 2   week                   456548 non-null  int64  \n",
      " 3   center_id              456548 non-null  int64  \n",
      " 4   meal_id                456548 non-null  int64  \n",
      " 5   checkout_price         456548 non-null  float64\n",
      " 6   base_price             456548 non-null  float64\n",
      " 7   emailer_for_promotion  456548 non-null  int64  \n",
      " 8   homepage_featured      456548 non-null  int64  \n",
      " 9   city_code              456548 non-null  int64  \n",
      " 10  region_code            456548 non-null  int64  \n",
      " 11  center_type            456548 non-null  object \n",
      " 12  op_area                456548 non-null  float64\n",
      " 13  category               456548 non-null  object \n",
      " 14  cuisine                456548 non-null  object \n",
      " 15  year                   456548 non-null  int32  \n",
      " 16  month                  456548 non-null  int32  \n",
      " 17  quarter                456548 non-null  int32  \n",
      " 18  week_in_month          456548 non-null  int64  \n",
      "dtypes: float64(3), int32(3), int64(10), object(3)\n",
      "memory usage: 64.4+ MB\n"
     ]
    }
   ],
   "source": [
    "training_data.info()"
   ]
  },
  {
   "cell_type": "code",
   "execution_count": 54,
   "metadata": {},
   "outputs": [],
   "source": [
    "training_data.to_csv('C:/Users/matebook x/Desktop/MTN/Food Demand Forecasting/train_feature.csv', index=False)"
   ]
  },
  {
   "cell_type": "code",
   "execution_count": 55,
   "metadata": {},
   "outputs": [
    {
     "data": {
      "text/html": [
       "<div>\n",
       "<style scoped>\n",
       "    .dataframe tbody tr th:only-of-type {\n",
       "        vertical-align: middle;\n",
       "    }\n",
       "\n",
       "    .dataframe tbody tr th {\n",
       "        vertical-align: top;\n",
       "    }\n",
       "\n",
       "    .dataframe thead th {\n",
       "        text-align: right;\n",
       "    }\n",
       "</style>\n",
       "<table border=\"1\" class=\"dataframe\">\n",
       "  <thead>\n",
       "    <tr style=\"text-align: right;\">\n",
       "      <th></th>\n",
       "      <th>id</th>\n",
       "      <th>week</th>\n",
       "      <th>center_id</th>\n",
       "      <th>meal_id</th>\n",
       "      <th>checkout_price</th>\n",
       "      <th>base_price</th>\n",
       "      <th>emailer_for_promotion</th>\n",
       "      <th>homepage_featured</th>\n",
       "      <th>city_code</th>\n",
       "      <th>region_code</th>\n",
       "      <th>center_type</th>\n",
       "      <th>op_area</th>\n",
       "      <th>category</th>\n",
       "      <th>cuisine</th>\n",
       "      <th>year</th>\n",
       "      <th>month</th>\n",
       "      <th>quarter</th>\n",
       "      <th>week_in_month</th>\n",
       "    </tr>\n",
       "  </thead>\n",
       "  <tbody>\n",
       "    <tr>\n",
       "      <th>0</th>\n",
       "      <td>1028232</td>\n",
       "      <td>146</td>\n",
       "      <td>55</td>\n",
       "      <td>1885</td>\n",
       "      <td>158.11</td>\n",
       "      <td>159.11</td>\n",
       "      <td>0</td>\n",
       "      <td>0</td>\n",
       "      <td>647</td>\n",
       "      <td>56</td>\n",
       "      <td>TYPE_C</td>\n",
       "      <td>2.0</td>\n",
       "      <td>Beverages</td>\n",
       "      <td>Thai</td>\n",
       "      <td>3</td>\n",
       "      <td>11</td>\n",
       "      <td>4</td>\n",
       "      <td>2</td>\n",
       "    </tr>\n",
       "    <tr>\n",
       "      <th>1</th>\n",
       "      <td>1127204</td>\n",
       "      <td>146</td>\n",
       "      <td>55</td>\n",
       "      <td>1993</td>\n",
       "      <td>160.11</td>\n",
       "      <td>159.11</td>\n",
       "      <td>0</td>\n",
       "      <td>0</td>\n",
       "      <td>647</td>\n",
       "      <td>56</td>\n",
       "      <td>TYPE_C</td>\n",
       "      <td>2.0</td>\n",
       "      <td>Beverages</td>\n",
       "      <td>Thai</td>\n",
       "      <td>3</td>\n",
       "      <td>11</td>\n",
       "      <td>4</td>\n",
       "      <td>2</td>\n",
       "    </tr>\n",
       "    <tr>\n",
       "      <th>2</th>\n",
       "      <td>1212707</td>\n",
       "      <td>146</td>\n",
       "      <td>55</td>\n",
       "      <td>2539</td>\n",
       "      <td>157.14</td>\n",
       "      <td>159.14</td>\n",
       "      <td>0</td>\n",
       "      <td>0</td>\n",
       "      <td>647</td>\n",
       "      <td>56</td>\n",
       "      <td>TYPE_C</td>\n",
       "      <td>2.0</td>\n",
       "      <td>Beverages</td>\n",
       "      <td>Thai</td>\n",
       "      <td>3</td>\n",
       "      <td>11</td>\n",
       "      <td>4</td>\n",
       "      <td>2</td>\n",
       "    </tr>\n",
       "    <tr>\n",
       "      <th>3</th>\n",
       "      <td>1082698</td>\n",
       "      <td>146</td>\n",
       "      <td>55</td>\n",
       "      <td>2631</td>\n",
       "      <td>162.02</td>\n",
       "      <td>162.02</td>\n",
       "      <td>0</td>\n",
       "      <td>0</td>\n",
       "      <td>647</td>\n",
       "      <td>56</td>\n",
       "      <td>TYPE_C</td>\n",
       "      <td>2.0</td>\n",
       "      <td>Beverages</td>\n",
       "      <td>Indian</td>\n",
       "      <td>3</td>\n",
       "      <td>11</td>\n",
       "      <td>4</td>\n",
       "      <td>2</td>\n",
       "    </tr>\n",
       "    <tr>\n",
       "      <th>4</th>\n",
       "      <td>1400926</td>\n",
       "      <td>146</td>\n",
       "      <td>55</td>\n",
       "      <td>1248</td>\n",
       "      <td>163.93</td>\n",
       "      <td>163.93</td>\n",
       "      <td>0</td>\n",
       "      <td>0</td>\n",
       "      <td>647</td>\n",
       "      <td>56</td>\n",
       "      <td>TYPE_C</td>\n",
       "      <td>2.0</td>\n",
       "      <td>Beverages</td>\n",
       "      <td>Indian</td>\n",
       "      <td>3</td>\n",
       "      <td>11</td>\n",
       "      <td>4</td>\n",
       "      <td>2</td>\n",
       "    </tr>\n",
       "  </tbody>\n",
       "</table>\n",
       "</div>"
      ],
      "text/plain": [
       "        id  week  center_id  meal_id  checkout_price  base_price  \\\n",
       "0  1028232   146         55     1885          158.11      159.11   \n",
       "1  1127204   146         55     1993          160.11      159.11   \n",
       "2  1212707   146         55     2539          157.14      159.14   \n",
       "3  1082698   146         55     2631          162.02      162.02   \n",
       "4  1400926   146         55     1248          163.93      163.93   \n",
       "\n",
       "   emailer_for_promotion  homepage_featured  city_code  region_code  \\\n",
       "0                      0                  0        647           56   \n",
       "1                      0                  0        647           56   \n",
       "2                      0                  0        647           56   \n",
       "3                      0                  0        647           56   \n",
       "4                      0                  0        647           56   \n",
       "\n",
       "  center_type  op_area   category cuisine  year  month  quarter  week_in_month  \n",
       "0      TYPE_C      2.0  Beverages    Thai     3     11        4              2  \n",
       "1      TYPE_C      2.0  Beverages    Thai     3     11        4              2  \n",
       "2      TYPE_C      2.0  Beverages    Thai     3     11        4              2  \n",
       "3      TYPE_C      2.0  Beverages  Indian     3     11        4              2  \n",
       "4      TYPE_C      2.0  Beverages  Indian     3     11        4              2  "
      ]
     },
     "execution_count": 55,
     "metadata": {},
     "output_type": "execute_result"
    }
   ],
   "source": [
    "test_data = df_test[['id']].merge(total_data, on='id', how='left')\n",
    "test_data.head()"
   ]
  },
  {
   "cell_type": "code",
   "execution_count": 56,
   "metadata": {},
   "outputs": [
    {
     "name": "stdout",
     "output_type": "stream",
     "text": [
      "<class 'pandas.core.frame.DataFrame'>\n",
      "Int64Index: 32573 entries, 0 to 32572\n",
      "Data columns (total 18 columns):\n",
      " #   Column                 Non-Null Count  Dtype  \n",
      "---  ------                 --------------  -----  \n",
      " 0   id                     32573 non-null  int64  \n",
      " 1   week                   32573 non-null  int64  \n",
      " 2   center_id              32573 non-null  int64  \n",
      " 3   meal_id                32573 non-null  int64  \n",
      " 4   checkout_price         32573 non-null  float64\n",
      " 5   base_price             32573 non-null  float64\n",
      " 6   emailer_for_promotion  32573 non-null  int64  \n",
      " 7   homepage_featured      32573 non-null  int64  \n",
      " 8   city_code              32573 non-null  int64  \n",
      " 9   region_code            32573 non-null  int64  \n",
      " 10  center_type            32573 non-null  object \n",
      " 11  op_area                32573 non-null  float64\n",
      " 12  category               32573 non-null  object \n",
      " 13  cuisine                32573 non-null  object \n",
      " 14  year                   32573 non-null  int32  \n",
      " 15  month                  32573 non-null  int32  \n",
      " 16  quarter                32573 non-null  int32  \n",
      " 17  week_in_month          32573 non-null  int64  \n",
      "dtypes: float64(3), int32(3), int64(9), object(3)\n",
      "memory usage: 4.3+ MB\n"
     ]
    }
   ],
   "source": [
    "test_data.info()"
   ]
  },
  {
   "cell_type": "code",
   "execution_count": 57,
   "metadata": {},
   "outputs": [],
   "source": [
    "test_data.to_csv('C:/Users/matebook x/Desktop/MTN/Food Demand Forecasting/test_feature.csv', index=False)"
   ]
  },
  {
   "attachments": {},
   "cell_type": "markdown",
   "metadata": {},
   "source": [
    "Observation :\n",
    "\n",
    "In both, training and test dataset, some combination of week, center and meal are missing.Missing records can be because to below two reasons:\n",
    "\n",
    "1. There is actually no sales for that meal, center and weeks combination.\n",
    "2. Records were not captured due to technical error.\n",
    "\n",
    "There are outliers with respect to checkout_price and number of orders in training data."
   ]
  },
  {
   "cell_type": "code",
   "execution_count": 58,
   "metadata": {},
   "outputs": [
    {
     "data": {
      "text/html": [
       "<div>\n",
       "<style scoped>\n",
       "    .dataframe tbody tr th:only-of-type {\n",
       "        vertical-align: middle;\n",
       "    }\n",
       "\n",
       "    .dataframe tbody tr th {\n",
       "        vertical-align: top;\n",
       "    }\n",
       "\n",
       "    .dataframe thead th {\n",
       "        text-align: right;\n",
       "    }\n",
       "</style>\n",
       "<table border=\"1\" class=\"dataframe\">\n",
       "  <thead>\n",
       "    <tr style=\"text-align: right;\">\n",
       "      <th></th>\n",
       "      <th>num_orders</th>\n",
       "      <th>week</th>\n",
       "      <th>center_id</th>\n",
       "      <th>meal_id</th>\n",
       "      <th>checkout_price</th>\n",
       "      <th>base_price</th>\n",
       "      <th>emailer_for_promotion</th>\n",
       "      <th>homepage_featured</th>\n",
       "      <th>city_code</th>\n",
       "      <th>region_code</th>\n",
       "      <th>center_type</th>\n",
       "      <th>op_area</th>\n",
       "      <th>category</th>\n",
       "      <th>cuisine</th>\n",
       "      <th>year</th>\n",
       "      <th>month</th>\n",
       "      <th>quarter</th>\n",
       "      <th>week_in_month</th>\n",
       "    </tr>\n",
       "    <tr>\n",
       "      <th>id</th>\n",
       "      <th></th>\n",
       "      <th></th>\n",
       "      <th></th>\n",
       "      <th></th>\n",
       "      <th></th>\n",
       "      <th></th>\n",
       "      <th></th>\n",
       "      <th></th>\n",
       "      <th></th>\n",
       "      <th></th>\n",
       "      <th></th>\n",
       "      <th></th>\n",
       "      <th></th>\n",
       "      <th></th>\n",
       "      <th></th>\n",
       "      <th></th>\n",
       "      <th></th>\n",
       "      <th></th>\n",
       "    </tr>\n",
       "  </thead>\n",
       "  <tbody>\n",
       "    <tr>\n",
       "      <th>1379560</th>\n",
       "      <td>177</td>\n",
       "      <td>1</td>\n",
       "      <td>55</td>\n",
       "      <td>1885</td>\n",
       "      <td>136.83</td>\n",
       "      <td>152.29</td>\n",
       "      <td>0</td>\n",
       "      <td>0</td>\n",
       "      <td>647</td>\n",
       "      <td>56</td>\n",
       "      <td>TYPE_C</td>\n",
       "      <td>2.0</td>\n",
       "      <td>Beverages</td>\n",
       "      <td>Thai</td>\n",
       "      <td>1</td>\n",
       "      <td>1</td>\n",
       "      <td>1</td>\n",
       "      <td>1</td>\n",
       "    </tr>\n",
       "    <tr>\n",
       "      <th>1466964</th>\n",
       "      <td>270</td>\n",
       "      <td>1</td>\n",
       "      <td>55</td>\n",
       "      <td>1993</td>\n",
       "      <td>136.83</td>\n",
       "      <td>135.83</td>\n",
       "      <td>0</td>\n",
       "      <td>0</td>\n",
       "      <td>647</td>\n",
       "      <td>56</td>\n",
       "      <td>TYPE_C</td>\n",
       "      <td>2.0</td>\n",
       "      <td>Beverages</td>\n",
       "      <td>Thai</td>\n",
       "      <td>1</td>\n",
       "      <td>1</td>\n",
       "      <td>1</td>\n",
       "      <td>1</td>\n",
       "    </tr>\n",
       "    <tr>\n",
       "      <th>1346989</th>\n",
       "      <td>189</td>\n",
       "      <td>1</td>\n",
       "      <td>55</td>\n",
       "      <td>2539</td>\n",
       "      <td>134.86</td>\n",
       "      <td>135.86</td>\n",
       "      <td>0</td>\n",
       "      <td>0</td>\n",
       "      <td>647</td>\n",
       "      <td>56</td>\n",
       "      <td>TYPE_C</td>\n",
       "      <td>2.0</td>\n",
       "      <td>Beverages</td>\n",
       "      <td>Thai</td>\n",
       "      <td>1</td>\n",
       "      <td>1</td>\n",
       "      <td>1</td>\n",
       "      <td>1</td>\n",
       "    </tr>\n",
       "    <tr>\n",
       "      <th>1338232</th>\n",
       "      <td>54</td>\n",
       "      <td>1</td>\n",
       "      <td>55</td>\n",
       "      <td>2139</td>\n",
       "      <td>339.50</td>\n",
       "      <td>437.53</td>\n",
       "      <td>0</td>\n",
       "      <td>0</td>\n",
       "      <td>647</td>\n",
       "      <td>56</td>\n",
       "      <td>TYPE_C</td>\n",
       "      <td>2.0</td>\n",
       "      <td>Beverages</td>\n",
       "      <td>Indian</td>\n",
       "      <td>1</td>\n",
       "      <td>1</td>\n",
       "      <td>1</td>\n",
       "      <td>1</td>\n",
       "    </tr>\n",
       "    <tr>\n",
       "      <th>1448490</th>\n",
       "      <td>40</td>\n",
       "      <td>1</td>\n",
       "      <td>55</td>\n",
       "      <td>2631</td>\n",
       "      <td>243.50</td>\n",
       "      <td>242.50</td>\n",
       "      <td>0</td>\n",
       "      <td>0</td>\n",
       "      <td>647</td>\n",
       "      <td>56</td>\n",
       "      <td>TYPE_C</td>\n",
       "      <td>2.0</td>\n",
       "      <td>Beverages</td>\n",
       "      <td>Indian</td>\n",
       "      <td>1</td>\n",
       "      <td>1</td>\n",
       "      <td>1</td>\n",
       "      <td>1</td>\n",
       "    </tr>\n",
       "  </tbody>\n",
       "</table>\n",
       "</div>"
      ],
      "text/plain": [
       "         num_orders  week  center_id  meal_id  checkout_price  base_price  \\\n",
       "id                                                                          \n",
       "1379560         177     1         55     1885          136.83      152.29   \n",
       "1466964         270     1         55     1993          136.83      135.83   \n",
       "1346989         189     1         55     2539          134.86      135.86   \n",
       "1338232          54     1         55     2139          339.50      437.53   \n",
       "1448490          40     1         55     2631          243.50      242.50   \n",
       "\n",
       "         emailer_for_promotion  homepage_featured  city_code  region_code  \\\n",
       "id                                                                          \n",
       "1379560                      0                  0        647           56   \n",
       "1466964                      0                  0        647           56   \n",
       "1346989                      0                  0        647           56   \n",
       "1338232                      0                  0        647           56   \n",
       "1448490                      0                  0        647           56   \n",
       "\n",
       "        center_type  op_area   category cuisine  year  month  quarter  \\\n",
       "id                                                                      \n",
       "1379560      TYPE_C      2.0  Beverages    Thai     1      1        1   \n",
       "1466964      TYPE_C      2.0  Beverages    Thai     1      1        1   \n",
       "1346989      TYPE_C      2.0  Beverages    Thai     1      1        1   \n",
       "1338232      TYPE_C      2.0  Beverages  Indian     1      1        1   \n",
       "1448490      TYPE_C      2.0  Beverages  Indian     1      1        1   \n",
       "\n",
       "         week_in_month  \n",
       "id                      \n",
       "1379560              1  \n",
       "1466964              1  \n",
       "1346989              1  \n",
       "1338232              1  \n",
       "1448490              1  "
      ]
     },
     "execution_count": 58,
     "metadata": {},
     "output_type": "execute_result"
    }
   ],
   "source": [
    "dataset = pd.read_csv(r\"C:/Users/matebook x/Desktop/MTN/Food Demand Forecasting/train_feature.csv\", index_col='id')\n",
    "dataset.head()"
   ]
  },
  {
   "cell_type": "code",
   "execution_count": 59,
   "metadata": {},
   "outputs": [
    {
     "name": "stdout",
     "output_type": "stream",
     "text": [
      "<class 'pandas.core.frame.DataFrame'>\n",
      "Int64Index: 456548 entries, 1379560 to 1361984\n",
      "Data columns (total 18 columns):\n",
      " #   Column                 Non-Null Count   Dtype   \n",
      "---  ------                 --------------   -----   \n",
      " 0   num_orders             456548 non-null  int64   \n",
      " 1   week                   456548 non-null  category\n",
      " 2   center_id              456548 non-null  category\n",
      " 3   meal_id                456548 non-null  category\n",
      " 4   checkout_price         456548 non-null  float64 \n",
      " 5   base_price             456548 non-null  float64 \n",
      " 6   emailer_for_promotion  456548 non-null  category\n",
      " 7   homepage_featured      456548 non-null  category\n",
      " 8   city_code              456548 non-null  category\n",
      " 9   region_code            456548 non-null  category\n",
      " 10  center_type            456548 non-null  category\n",
      " 11  op_area                456548 non-null  float64 \n",
      " 12  category               456548 non-null  category\n",
      " 13  cuisine                456548 non-null  category\n",
      " 14  year                   456548 non-null  category\n",
      " 15  month                  456548 non-null  category\n",
      " 16  quarter                456548 non-null  category\n",
      " 17  week_in_month          456548 non-null  category\n",
      "dtypes: category(14), float64(3), int64(1)\n",
      "memory usage: 24.0 MB\n"
     ]
    }
   ],
   "source": [
    "categorical_columns = ['week', 'center_id', 'meal_id', 'emailer_for_promotion', 'homepage_featured', 'city_code', \n",
    "                       'region_code', 'center_type', 'category', 'cuisine','year','month','week_in_month', 'quarter']\n",
    "for column in categorical_columns:\n",
    "    dataset[column] = dataset[column].astype('category')\n",
    "dataset.info()"
   ]
  },
  {
   "cell_type": "code",
   "execution_count": 60,
   "metadata": {},
   "outputs": [
    {
     "data": {
      "text/html": [
       "<div>\n",
       "<style scoped>\n",
       "    .dataframe tbody tr th:only-of-type {\n",
       "        vertical-align: middle;\n",
       "    }\n",
       "\n",
       "    .dataframe tbody tr th {\n",
       "        vertical-align: top;\n",
       "    }\n",
       "\n",
       "    .dataframe thead th {\n",
       "        text-align: right;\n",
       "    }\n",
       "</style>\n",
       "<table border=\"1\" class=\"dataframe\">\n",
       "  <thead>\n",
       "    <tr style=\"text-align: right;\">\n",
       "      <th></th>\n",
       "      <th>num_orders</th>\n",
       "      <th>checkout_price</th>\n",
       "      <th>base_price</th>\n",
       "      <th>op_area</th>\n",
       "    </tr>\n",
       "  </thead>\n",
       "  <tbody>\n",
       "    <tr>\n",
       "      <th>num_orders</th>\n",
       "      <td>1.000000</td>\n",
       "      <td>-0.282108</td>\n",
       "      <td>-0.222306</td>\n",
       "      <td>0.176976</td>\n",
       "    </tr>\n",
       "    <tr>\n",
       "      <th>checkout_price</th>\n",
       "      <td>-0.282108</td>\n",
       "      <td>1.000000</td>\n",
       "      <td>0.953389</td>\n",
       "      <td>0.021569</td>\n",
       "    </tr>\n",
       "    <tr>\n",
       "      <th>base_price</th>\n",
       "      <td>-0.222306</td>\n",
       "      <td>0.953389</td>\n",
       "      <td>1.000000</td>\n",
       "      <td>0.018031</td>\n",
       "    </tr>\n",
       "    <tr>\n",
       "      <th>op_area</th>\n",
       "      <td>0.176976</td>\n",
       "      <td>0.021569</td>\n",
       "      <td>0.018031</td>\n",
       "      <td>1.000000</td>\n",
       "    </tr>\n",
       "  </tbody>\n",
       "</table>\n",
       "</div>"
      ],
      "text/plain": [
       "                num_orders  checkout_price  base_price   op_area\n",
       "num_orders        1.000000       -0.282108   -0.222306  0.176976\n",
       "checkout_price   -0.282108        1.000000    0.953389  0.021569\n",
       "base_price       -0.222306        0.953389    1.000000  0.018031\n",
       "op_area           0.176976        0.021569    0.018031  1.000000"
      ]
     },
     "execution_count": 60,
     "metadata": {},
     "output_type": "execute_result"
    }
   ],
   "source": [
    "correlation = dataset.corr()\n",
    "correlation"
   ]
  },
  {
   "cell_type": "code",
   "execution_count": 61,
   "metadata": {},
   "outputs": [
    {
     "data": {
      "image/png": "[encoded data removed]",
      "text/plain": [
       "<Figure size 432x288 with 2 Axes>"
      ]
     },
     "metadata": {
      "needs_background": "light"
     },
     "output_type": "display_data"
    }
   ],
   "source": [
    "sns.heatmap(correlation)\n",
    "plt.title(\"Correlation between continuous variables\")\n",
    "plt.show()\n"
   ]
  },
  {
   "attachments": {},
   "cell_type": "markdown",
   "metadata": {},
   "source": [
    "The checkout price and base price has high positive correlation with each other and negative correlation with number of orders. It make sense, customer will order cheaper meals more than costly meals.The operating area and discount has low positive correlation with other variables.\n",
    "\n"
   ]
  },
  {
   "attachments": {},
   "cell_type": "markdown",
   "metadata": {},
   "source": [
    "# Insights #1 - Seasonality in Food Demand"
   ]
  },
  {
   "cell_type": "code",
   "execution_count": 124,
   "metadata": {},
   "outputs": [
    {
     "data": {
      "image/png": "[encoded data removed]",
      "text/plain": [
       "<Figure size 432x288 with 1 Axes>"
      ]
     },
     "metadata": {},
     "output_type": "display_data"
    }
   ],
   "source": [
    "# Calculate average demand by month\n",
    "monthly_demand = dataset.groupby('month')['num_orders'].mean()\n",
    "\n",
    "# Plot monthly demand\n",
    "monthly_demand.plot()\n",
    "plt.xlabel('Month')\n",
    "plt.ylabel('Average Demand')\n",
    "plt.title('Seasonality in Food Demand')\n",
    "plt.show()"
   ]
  },
  {
   "attachments": {},
   "cell_type": "markdown",
   "metadata": {},
   "source": [
    "Observation:  \n",
    "\n",
    "Month 2 has highest order.\n",
    "\n",
    "Month 9 has lowest order."
   ]
  },
  {
   "attachments": {},
   "cell_type": "markdown",
   "metadata": {},
   "source": [
    "### Analysing order trend in year"
   ]
  },
  {
   "cell_type": "code",
   "execution_count": 125,
   "metadata": {},
   "outputs": [
    {
     "data": {
      "image/png": "[encoded data removed]",
      "text/plain": [
       "<Figure size 432x288 with 1 Axes>"
      ]
     },
     "metadata": {},
     "output_type": "display_data"
    }
   ],
   "source": [
    "year_trend = dataset[['year', 'num_orders']].groupby('year').mean()\n",
    "\n",
    "year_trend.reset_index().plot('year', 'num_orders', kind='bar')\n",
    "plt.title(\"Orders Trend\")\n",
    "plt.xlabel(\"Years\")\n",
    "plt.ylabel(\"Average Orders\")\n",
    "plt.show()"
   ]
  },
  {
   "attachments": {},
   "cell_type": "markdown",
   "metadata": {},
   "source": [
    "We are not able to conclude anything as there are only availability of 3 years data and year 3 is incomplete."
   ]
  },
  {
   "cell_type": "code",
   "execution_count": 126,
   "metadata": {},
   "outputs": [
    {
     "data": {
      "image/png": "[encoded data removed]",
      "text/plain": [
       "<Figure size 432x288 with 1 Axes>"
      ]
     },
     "metadata": {},
     "output_type": "display_data"
    }
   ],
   "source": [
    "# Calculate average demand by month\n",
    "monthly_demand = dataset.groupby('week_in_month')['num_orders'].mean()\n",
    "\n",
    "# Plot monthly demand\n",
    "monthly_demand.plot()\n",
    "plt.xlabel(' Week in a Month')\n",
    "plt.ylabel('Average Demand')\n",
    "plt.title('Seasonality in Food Demand')\n",
    "plt.show()"
   ]
  },
  {
   "attachments": {},
   "cell_type": "markdown",
   "metadata": {},
   "source": [
    "Observation:  \n",
    "\n",
    "Start and end months have more orders than second and third week."
   ]
  },
  {
   "attachments": {},
   "cell_type": "markdown",
   "metadata": {},
   "source": [
    "# Insights #2 - Promotion Impact"
   ]
  },
  {
   "attachments": {},
   "cell_type": "markdown",
   "metadata": {},
   "source": [
    "### Does promotion by email results in increase in number of orders ?\n",
    "Let's perform hypothesis test to answer this question.\n",
    "\n",
    "Null Hypothesis: The difference between the mean of number of orders with email promotion and without email promotion is less than or equal to zero.\n",
    "\n",
    "Alternate Hypothesis: The difference between the mean of number of orders with email promotion and without email promotion is greater than zero."
   ]
  },
  {
   "cell_type": "code",
   "execution_count": 62,
   "metadata": {},
   "outputs": [],
   "source": [
    "# Function to draw samples, it will be used in performing tests\n",
    "def draw_samples(series, statistic=np.mean, replicas=10000):\n",
    "    size = series.shape[0]\n",
    "    sample_data = [statistic(series.sample(n=size, replace=True)) for _ in range(replicas)]\n",
    "    return np.array(sample_data)"
   ]
  },
  {
   "cell_type": "code",
   "execution_count": 63,
   "metadata": {},
   "outputs": [
    {
     "data": {
      "text/plain": [
       "0    388874\n",
       "1     48443\n",
       "2     19231\n",
       "dtype: int64"
      ]
     },
     "execution_count": 63,
     "metadata": {},
     "output_type": "execute_result"
    }
   ],
   "source": [
    "promotion = dataset['emailer_for_promotion'].astype('int') + dataset['homepage_featured'].astype('int')\n",
    "promotion.value_counts()"
   ]
  },
  {
   "cell_type": "code",
   "execution_count": 99,
   "metadata": {},
   "outputs": [
    {
     "name": "stdout",
     "output_type": "stream",
     "text": [
      "Observed mean difference: 401.83466060394824\n",
      "Confidence Intervals: [394.4587872]\n",
      "P-value: 0.0\n"
     ]
    },
    {
     "data": {
      "image/png": "[encoded data removed]",
      "text/plain": [
       "<Figure size 432x288 with 1 Axes>"
      ]
     },
     "metadata": {},
     "output_type": "display_data"
    }
   ],
   "source": [
    "emailer_orders = dataset[dataset.emailer_for_promotion == 1]['num_orders']\n",
    "non_emailer_orders = dataset[dataset.emailer_for_promotion == 0]['num_orders']\n",
    "\n",
    "observed_mean_diff = emailer_orders.mean() - non_emailer_orders.mean()\n",
    "mean_diff_bootstrap = draw_samples(emailer_orders) - draw_samples(non_emailer_orders)\n",
    "\n",
    "confidence_interval = np.percentile(mean_diff_bootstrap, [5.0])\n",
    "p_value = np.sum(mean_diff_bootstrap <= 0)/ len(mean_diff_bootstrap)\n",
    "\n",
    "print(\"Observed mean difference: {}\".format(observed_mean_diff))\n",
    "print(\"Confidence Intervals: {}\".format(confidence_interval))\n",
    "print(\"P-value: {}\".format(p_value))\n",
    "\n",
    "# Plotting histogram\n",
    "_ = plt.hist(mean_diff_bootstrap, bins=20, alpha=0.5)\n",
    "_ = plt.xlabel(\"Difference between the mean\")\n",
    "_ = plt.ylabel(\"number of samples\")\n",
    "_ = plt.title(\"Email Promotion vs Non-email Promotion\")\n",
    "\n",
    "# Marking the 5% confidence interval\n",
    "_ = plt.axvline(confidence_interval[0], color='k', linestyle='dashed', linewidth=1)\n",
    "_ = plt.axvline(observed_mean_diff, color='g', linewidth=1)\n",
    "\n",
    "plt.show()"
   ]
  },
  {
   "attachments": {},
   "cell_type": "markdown",
   "metadata": {},
   "source": [
    "The P-value of above hypothesis test is statistically significant for given left-side 0.05 alpha. Hence, we reject the null hypothesis and accept the alternative hypothesis.\n",
    "\n",
    "The above Histogram also supports alternate hypothesis.\n",
    "\n",
    "### Conclusion: Promotion Activity by emails does increase the number of orders"
   ]
  },
  {
   "attachments": {},
   "cell_type": "markdown",
   "metadata": {},
   "source": [
    "### Does promotion by email results in increase in number of orders ?\n",
    "Let's perform hypothesis test to answer this question.\n",
    "\n",
    "Null Hypothesis: The difference between the mean of number of orders with email promotion and without email promotion is less than or equal to zero.\n",
    "\n",
    "Alternate Hypothesis: The difference between the mean of number of orders with email promotion and without email promotion is greater than zero."
   ]
  },
  {
   "cell_type": "code",
   "execution_count": null,
   "metadata": {},
   "outputs": [
    {
     "name": "stdout",
     "output_type": "stream",
     "text": [
      "Observed mean difference: 401.83466060394824\n",
      "Confidence Intervals: [394.38553863]\n",
      "P-value: 0.0\n"
     ]
    },
    {
     "data": {
      "image/png": "[encoded data removed]",
      "text/plain": [
       "<Figure size 432x288 with 1 Axes>"
      ]
     },
     "metadata": {
      "needs_background": "light"
     },
     "output_type": "display_data"
    }
   ],
   "source": [
    "emailer_orders = dataset[dataset.emailer_for_promotion == 1]['num_orders']\n",
    "non_emailer_orders = dataset[dataset.emailer_for_promotion == 0]['num_orders']\n",
    "\n",
    "observed_mean_diff = emailer_orders.mean() - non_emailer_orders.mean()\n",
    "mean_diff_bootstrap = draw_samples(emailer_orders) - draw_samples(non_emailer_orders)\n",
    "\n",
    "confidence_interval = np.percentile(mean_diff_bootstrap, [5.0])\n",
    "p_value = np.sum(mean_diff_bootstrap <= 0)/ len(mean_diff_bootstrap)\n",
    "\n",
    "print(\"Observed mean difference: {}\".format(observed_mean_diff))\n",
    "print(\"Confidence Intervals: {}\".format(confidence_interval))\n",
    "print(\"P-value: {}\".format(p_value))\n",
    "\n",
    "# Plotting histogram\n",
    "_ = plt.hist(mean_diff_bootstrap, bins=20, alpha=0.5)\n",
    "_ = plt.xlabel(\"Difference between the mean\")\n",
    "_ = plt.ylabel(\"number of samples\")\n",
    "_ = plt.title(\"Email Promotion vs Non-email Promotion\")\n",
    "\n",
    "# Marking the 5% confidence interval\n",
    "_ = plt.axvline(confidence_interval[0], color='k', linestyle='dashed', linewidth=1)\n",
    "_ = plt.axvline(observed_mean_diff, color='g', linewidth=1)\n",
    "\n",
    "# plt.savefig('C:/Users/matebook x/Desktop/MTN/Food Demand Forecasting/diff_orders_email_promotion.jpg')\n",
    "plt.show()"
   ]
  },
  {
   "attachments": {},
   "cell_type": "markdown",
   "metadata": {},
   "source": [
    "The P-value of above hypothesis test is statistically significant for given left-side 0.05 alpha. Hence, we reject the null hypothesis and accept the alternative hypothesis.\n",
    "\n",
    "The above Histogram also supports alternate hypothesis.\n",
    "\n",
    "### Conclusion: Promotion Activity by emails does increase the number of orders\n",
    "\n"
   ]
  },
  {
   "attachments": {},
   "cell_type": "markdown",
   "metadata": {},
   "source": [
    "### Does promotion in homepage results in increase in number of orders ?\n",
    "Let's perform hypothesis test to answer this question.\n",
    "\n",
    "Null Hypothesis: The difference between the mean of number of orders with homepage promotion and without homepage promotion is less than or equal to zero.\n",
    "\n",
    "Alternate Hypothesis: The difference between the mean of number of orders with homepage promotion and without homepage promotion is greater than zero."
   ]
  },
  {
   "cell_type": "code",
   "execution_count": null,
   "metadata": {},
   "outputs": [
    {
     "name": "stdout",
     "output_type": "stream",
     "text": [
      "Observed mean difference: 373.8347456767344\n",
      "Confidence Intervals: [368.01913055]\n",
      "P-value: 0.0\n"
     ]
    },
    {
     "data": {
      "image/png": "[encoded data removed]",
      "text/plain": [
       "<Figure size 432x288 with 1 Axes>"
      ]
     },
     "metadata": {
      "needs_background": "light"
     },
     "output_type": "display_data"
    }
   ],
   "source": [
    "homepage_orders = dataset[dataset.homepage_featured == 1]['num_orders']\n",
    "non_homepage_orders = dataset[dataset.homepage_featured == 0]['num_orders']\n",
    "\n",
    "observed_mean_diff = homepage_orders.mean() - non_homepage_orders.mean()\n",
    "mean_diff_bootstrap = draw_samples(homepage_orders) - draw_samples(non_homepage_orders)\n",
    "\n",
    "confidence_interval = np.percentile(mean_diff_bootstrap, [5.0])\n",
    "p_value = np.sum(mean_diff_bootstrap <= 0)/ len(mean_diff_bootstrap)\n",
    "\n",
    "print(\"Observed mean difference: {}\".format(observed_mean_diff))\n",
    "print(\"Confidence Intervals: {}\".format(confidence_interval))\n",
    "print(\"P-value: {}\".format(p_value))\n",
    "\n",
    "# Plotting histogram\n",
    "_ = plt.hist(mean_diff_bootstrap, bins=20, alpha=0.5)\n",
    "_ = plt.xlabel(\"Difference between the mean\")\n",
    "_ = plt.ylabel(\"number of samples\")\n",
    "_ = plt.title(\"Homepage Promotion vs Non-homepage Promotion\")\n",
    "\n",
    "# Marking the 5% confidence interval\n",
    "_ = plt.axvline(confidence_interval[0], color='k', linestyle='dashed', linewidth=1)\n",
    "_ = plt.axvline(observed_mean_diff, color='g', linewidth=1)\n",
    "\n",
    "# plt.savefig('C:/Users/matebook x/Desktop/MTN/Food Demand Forecasting/diff_orders_homepage_promotion.jpg')\n",
    "plt.show()"
   ]
  },
  {
   "attachments": {},
   "cell_type": "markdown",
   "metadata": {},
   "source": [
    "The P-value of above hypothesis test is statistically significant for given left-side 0.05 alpha. Hence, we reject the null hypothesis and accept the alternative hypothesis.\n",
    "\n",
    "The above Histogram also supports alternate hypothesis.\n",
    "\n",
    "### Conclusion: Promotion Activity in homepage does increase the number of orders\n",
    "\n"
   ]
  },
  {
   "attachments": {},
   "cell_type": "markdown",
   "metadata": {},
   "source": [
    "### Which promotional activity has higher impact on number of orders?\n",
    "\n",
    "Let's perform hypothesis test, on dataset were either promotion activity is perfromed, to answer this question.\n",
    "\n",
    "Null Hypothesis: The difference between the mean of number of orders with homepage promotion and without homepage promotion is less than or equal to zero.\n",
    "\n",
    "Alternate Hypothesis: The difference between the mean of number of orders with homepage promotion and without homepage promotion is greater than zero."
   ]
  },
  {
   "cell_type": "code",
   "execution_count": 119,
   "metadata": {},
   "outputs": [
    {
     "name": "stdout",
     "output_type": "stream",
     "text": [
      "Observed mean difference: 24.59858319570185\n",
      "Confidence Intervals: [14.58971433]\n",
      "P-value: 0.0\n"
     ]
    },
    {
     "data": {
      "image/png": "[encoded data removed]",
      "text/plain": [
       "<Figure size 432x288 with 1 Axes>"
      ]
     },
     "metadata": {},
     "output_type": "display_data"
    }
   ],
   "source": [
    "either_activity = dataset[promotion == 1]\n",
    "\n",
    "homepage_orders = either_activity[either_activity.homepage_featured == 1]['num_orders']\n",
    "non_homepage_orders = either_activity[either_activity.homepage_featured == 0]['num_orders']\n",
    "\n",
    "observed_mean_diff = homepage_orders.mean() - non_homepage_orders.mean()\n",
    "mean_diff_bootstrap = draw_samples(homepage_orders) - draw_samples(non_homepage_orders)\n",
    "\n",
    "confidence_interval = np.percentile(mean_diff_bootstrap, [5.0])\n",
    "p_value = np.sum(mean_diff_bootstrap <= 0)/ len(mean_diff_bootstrap)\n",
    "\n",
    "print(\"Observed mean difference: {}\".format(observed_mean_diff))\n",
    "print(\"Confidence Intervals: {}\".format(confidence_interval))\n",
    "print(\"P-value: {}\".format(p_value))\n",
    "\n",
    "# Plotting histogram\n",
    "plt.hist(mean_diff_bootstrap, bins=20, alpha=0.5)\n",
    "plt.xlabel(\"Difference between the mean\")\n",
    "plt.ylabel(\"number of samples\")\n",
    "plt.title(\"Email Promotion vs Homepage Promotion\")\n",
    "\n",
    "# Marking the 5% confidence interval\n",
    "plt.axvline(confidence_interval[0], color='k', linestyle='dashed', linewidth=1)\n",
    "plt.axvline(observed_mean_diff, color='g', linewidth=1)\n",
    "\n",
    "#plt.savefig('figure/impact_homepage_vs_email.jpg')\n",
    "plt.show()"
   ]
  },
  {
   "attachments": {},
   "cell_type": "markdown",
   "metadata": {},
   "source": [
    "The P-value of above hypothesis test is statistically significant for given left-side 0.05 alpha. Hence, we reject the null hypothesis and accept the alternative hypothesis.\n",
    "\n",
    "The above Histogram also supports alternate hypothesis.\n",
    "\n",
    "### Conclusion: Promotion Activity in homepage has more impact than emails on increase in number of orders"
   ]
  },
  {
   "cell_type": "code",
   "execution_count": 123,
   "metadata": {},
   "outputs": [
    {
     "name": "stdout",
     "output_type": "stream",
     "text": [
      "Average promotion impact on demand: 455.87620820271684\n"
     ]
    }
   ],
   "source": [
    "# Analyze promotion impact on demand\n",
    "promo_effect = homepage_orders.mean()\n",
    "print('Average promotion impact on demand:', promo_effect.mean())"
   ]
  },
  {
   "attachments": {},
   "cell_type": "markdown",
   "metadata": {},
   "source": [
    "Insights # 2: \n",
    "\n",
    "1. The checkout price and base price has high positive correlation with each other.\n",
    "\n",
    "2. They also have negative correlation with number of orders.\n",
    "\n",
    "3. The operating area  has low positive correlation with other variables.\n",
    "\n",
    "4. Promotion Activity by emails does increase the number of orders.\n",
    "\n",
    "5. Promotion Activity in homepage does increase the number of orders.\n",
    "\n",
    "6. Promotion activity in homepage has more impact than emails on increase in number of orders."
   ]
  },
  {
   "attachments": {},
   "cell_type": "markdown",
   "metadata": {},
   "source": [
    "# Insights #3 - How does the order demand vary with respect to different centers?"
   ]
  },
  {
   "cell_type": "code",
   "execution_count": 132,
   "metadata": {},
   "outputs": [
    {
     "data": {
      "image/png": "[encoded data removed]",
      "text/plain": [
       "<Figure size 432x288 with 1 Axes>"
      ]
     },
     "metadata": {},
     "output_type": "display_data"
    }
   ],
   "source": [
    "center_type_trend = dataset.pivot_table(index='week', columns='center_type', values='num_orders', \n",
    "                                        aggfunc='sum')\n",
    "\n",
    "center_type_trend.plot()\n",
    "plt.title(\"Center Type Trend\")\n",
    "plt.xlabel(\"Weeks\")\n",
    "plt.ylabel(\"Orders\")\n",
    "plt.show()"
   ]
  },
  {
   "cell_type": "code",
   "execution_count": 133,
   "metadata": {},
   "outputs": [
    {
     "data": {
      "image/png": "[encoded data removed]",
      "text/plain": [
       "<Figure size 432x288 with 1 Axes>"
      ]
     },
     "metadata": {},
     "output_type": "display_data"
    }
   ],
   "source": [
    "center_demand = dataset.groupby('center_type')['num_orders'].sum().reset_index().sort_values('num_orders', ascending=False)[:10]\n",
    "plt.bar(center_demand['center_type'], center_demand['num_orders'])\n",
    "plt.title('Order Demand by Centers')\n",
    "plt.xlabel('center_type')\n",
    "plt.ylabel('num_orders')\n",
    "plt.show()"
   ]
  },
  {
   "attachments": {},
   "cell_type": "markdown",
   "metadata": {},
   "source": [
    "Insights #3:\n",
    "\n",
    "Type A center has more orders than Type B and Type C."
   ]
  },
  {
   "attachments": {},
   "cell_type": "markdown",
   "metadata": {},
   "source": [
    "# Analyzing the trend in orders"
   ]
  },
  {
   "cell_type": "code",
   "execution_count": 98,
   "metadata": {},
   "outputs": [
    {
     "data": {
      "image/png": "[encoded data removed]",
      "text/plain": [
       "<Figure size 1152x504 with 1 Axes>"
      ]
     },
     "metadata": {},
     "output_type": "display_data"
    }
   ],
   "source": [
    "fig = plt.figure(figsize=(16,7))\n",
    "sns.set_style(\"whitegrid\")\n",
    "plt.title('Order Trend',fontdict={'fontsize':14})\n",
    "\n",
    "sns.pointplot(x=dataset.groupby('week').sum().reset_index()['week'],y=dataset.groupby('week').sum().reset_index()['num_orders'],color='coral')\n",
    "plt.xticks(range(0, 160, 10), list(np.arange(0,160,10)))\n",
    "plt.ylabel('No. of Orders',fontdict={'fontsize':12})\n",
    "plt.xlabel('Week',fontdict={'fontsize':12})\n",
    "sns.despine(bottom = True, left = True);"
   ]
  },
  {
   "attachments": {},
   "cell_type": "markdown",
   "metadata": {},
   "source": [
    "Observation :\n",
    "\n",
    "The maximum orders were in week 5 and week 48.Minimum orders were in week 62.\n",
    "\n",
    "Inorder to have a better idea we will check week 48 and week 62 more.\n"
   ]
  },
  {
   "cell_type": "code",
   "execution_count": 66,
   "metadata": {},
   "outputs": [
    {
     "data": {
      "image/png": "[encoded data removed]",
      "text/plain": [
       "<Figure size 432x288 with 1 Axes>"
      ]
     },
     "metadata": {
      "needs_background": "light"
     },
     "output_type": "display_data"
    }
   ],
   "source": [
    "dataset_week_62 = dataset[dataset.week == 62]\n",
    "dataset_week_48 = dataset[dataset.week == 48]\n",
    "\n",
    "dataset_week_62.num_orders.hist(alpha=0.5)\n",
    "dataset_week_48.num_orders.hist(alpha=0.5)\n",
    "plt.xlabel('Orders')\n",
    "plt.ylabel('Order Count')\n",
    "plt.title('Comparison between week 62 and 48')\n",
    "plt.show()"
   ]
  },
  {
   "attachments": {},
   "cell_type": "markdown",
   "metadata": {},
   "source": [
    "Observation: \n",
    "\n",
    "There is a very huge difference in distribution."
   ]
  },
  {
   "cell_type": "code",
   "execution_count": 67,
   "metadata": {},
   "outputs": [
    {
     "data": {
      "text/plain": [
       "0    2715\n",
       "1     175\n",
       "Name: emailer_for_promotion, dtype: int64"
      ]
     },
     "execution_count": 67,
     "metadata": {},
     "output_type": "execute_result"
    }
   ],
   "source": [
    "dataset_week_62.emailer_for_promotion.value_counts()\n"
   ]
  },
  {
   "cell_type": "code",
   "execution_count": 68,
   "metadata": {},
   "outputs": [
    {
     "data": {
      "text/plain": [
       "0    2729\n",
       "1     401\n",
       "Name: emailer_for_promotion, dtype: int64"
      ]
     },
     "execution_count": 68,
     "metadata": {},
     "output_type": "execute_result"
    }
   ],
   "source": [
    "dataset_week_48.emailer_for_promotion.value_counts()"
   ]
  },
  {
   "cell_type": "code",
   "execution_count": 69,
   "metadata": {},
   "outputs": [
    {
     "data": {
      "text/plain": [
       "0    2522\n",
       "1     337\n",
       "Name: emailer_for_promotion, dtype: int64"
      ]
     },
     "execution_count": 69,
     "metadata": {},
     "output_type": "execute_result"
    }
   ],
   "source": [
    "\n",
    "dataset[dataset.week == 5].emailer_for_promotion.value_counts()"
   ]
  },
  {
   "attachments": {},
   "cell_type": "markdown",
   "metadata": {},
   "source": [
    "Observation:\n",
    "\n",
    "There were almost double promotional activity, by email, in week 48 and week 5 as compare to week 62. Hence, there is hugh difference in number of orders."
   ]
  },
  {
   "attachments": {},
   "cell_type": "markdown",
   "metadata": {},
   "source": [
    "# Insights #4 : Which cuisine is most popular among customers?"
   ]
  },
  {
   "cell_type": "code",
   "execution_count": 76,
   "metadata": {},
   "outputs": [
    {
     "data": {
      "image/png": "[encoded data removed]",
      "text/plain": [
       "<Figure size 432x288 with 1 Axes>"
      ]
     },
     "metadata": {
      "needs_background": "light"
     },
     "output_type": "display_data"
    }
   ],
   "source": [
    "cuisine_trend = dataset.pivot_table(index='week', columns='cuisine', values='num_orders', aggfunc='mean')\n",
    "\n",
    "cuisine_trend.plot()\n",
    "_ = plt.title(\"Meal cuisine Trend\")\n",
    "_ = plt.xlabel(\"Weeks\")\n",
    "_ = plt.ylabel(\"Orders\")\n",
    "plt.show()"
   ]
  },
  {
   "cell_type": "code",
   "execution_count": 138,
   "metadata": {},
   "outputs": [
    {
     "data": {
      "image/png": "[encoded data removed]",
      "text/plain": [
       "<Figure size 432x288 with 1 Axes>"
      ]
     },
     "metadata": {},
     "output_type": "display_data"
    }
   ],
   "source": [
    "cuisine_count = dataset['cuisine'].value_counts()\n",
    "plt.bar(cuisine_count.index, cuisine_count.values)\n",
    "plt.title('Most Popular Cuisine')\n",
    "plt.xlabel('Cuisine')\n",
    "plt.ylabel('Count')\n",
    "plt.show()"
   ]
  },
  {
   "cell_type": "code",
   "execution_count": 94,
   "metadata": {},
   "outputs": [
    {
     "name": "stdout",
     "output_type": "stream",
     "text": [
      "cuisine\n",
      "Italian        122925\n",
      "Thai           118216\n",
      "Indian         112612\n",
      "Continental    102795\n",
      "dtype: int64\n"
     ]
    }
   ],
   "source": [
    "cui = dataset.groupby('cuisine').size().sort_values(ascending=False)\n",
    "print(cui)"
   ]
  },
  {
   "attachments": {},
   "cell_type": "markdown",
   "metadata": {},
   "source": [
    "Insights#4 :\n",
    "\n",
    "1. Most Popular cuisine is Italian.\n",
    "\n",
    "2. There is fluctuation of order for Indian cuisine.\n",
    "\n",
    "3. Less Popular cuisine is continental.\n",
    "\n"
   ]
  },
  {
   "attachments": {},
   "cell_type": "markdown",
   "metadata": {},
   "source": [
    "# Insights #5:  What is the average order demand for each cuisine?"
   ]
  },
  {
   "cell_type": "code",
   "execution_count": 144,
   "metadata": {},
   "outputs": [
    {
     "data": {
      "image/png": "[encoded data removed]",
      "text/plain": [
       "<Figure size 432x288 with 1 Axes>"
      ]
     },
     "metadata": {},
     "output_type": "display_data"
    }
   ],
   "source": [
    "cuisine_mean = dataset.groupby('cuisine')['num_orders'].mean().reset_index()\n",
    "plt.bar(cuisine_mean['cuisine'], cuisine_mean['num_orders'])\n",
    "plt.title('Average Order Demand by Cuisine')\n",
    "plt.xlabel('Cuisine')\n",
    "plt.ylabel('Average Order Demand')\n",
    "plt.show()"
   ]
  },
  {
   "cell_type": "code",
   "execution_count": 152,
   "metadata": {},
   "outputs": [
    {
     "data": {
      "text/html": [
       "<div>\n",
       "<style scoped>\n",
       "    .dataframe tbody tr th:only-of-type {\n",
       "        vertical-align: middle;\n",
       "    }\n",
       "\n",
       "    .dataframe tbody tr th {\n",
       "        vertical-align: top;\n",
       "    }\n",
       "\n",
       "    .dataframe thead th {\n",
       "        text-align: right;\n",
       "    }\n",
       "</style>\n",
       "<table border=\"1\" class=\"dataframe\">\n",
       "  <thead>\n",
       "    <tr style=\"text-align: right;\">\n",
       "      <th></th>\n",
       "      <th>cuisine</th>\n",
       "      <th>num_orders</th>\n",
       "    </tr>\n",
       "  </thead>\n",
       "  <tbody>\n",
       "    <tr>\n",
       "      <th>2</th>\n",
       "      <td>Italian</td>\n",
       "      <td>359.347830</td>\n",
       "    </tr>\n",
       "    <tr>\n",
       "      <th>3</th>\n",
       "      <td>Thai</td>\n",
       "      <td>276.423411</td>\n",
       "    </tr>\n",
       "    <tr>\n",
       "      <th>1</th>\n",
       "      <td>Indian</td>\n",
       "      <td>229.039037</td>\n",
       "    </tr>\n",
       "    <tr>\n",
       "      <th>0</th>\n",
       "      <td>Continental</td>\n",
       "      <td>164.545348</td>\n",
       "    </tr>\n",
       "  </tbody>\n",
       "</table>\n",
       "</div>"
      ],
      "text/plain": [
       "       cuisine  num_orders\n",
       "2      Italian  359.347830\n",
       "3         Thai  276.423411\n",
       "1       Indian  229.039037\n",
       "0  Continental  164.545348"
      ]
     },
     "execution_count": 152,
     "metadata": {},
     "output_type": "execute_result"
    }
   ],
   "source": [
    "cuisine_mean.sort_values(by=['num_orders'], ascending=False)"
   ]
  },
  {
   "cell_type": "code",
   "execution_count": null,
   "metadata": {},
   "outputs": [],
   "source": []
  },
  {
   "attachments": {},
   "cell_type": "markdown",
   "metadata": {},
   "source": [
    "checking meal category trend"
   ]
  },
  {
   "cell_type": "code",
   "execution_count": 77,
   "metadata": {},
   "outputs": [
    {
     "data": {
      "image/png": "[encoded data removed]",
      "text/plain": [
       "<Figure size 864x576 with 1 Axes>"
      ]
     },
     "metadata": {
      "needs_background": "light"
     },
     "output_type": "display_data"
    }
   ],
   "source": [
    "category_trend = dataset.pivot_table(index='week', columns='category', values='num_orders', aggfunc='mean')\n",
    "category_trend = category_trend.fillna(0)\n",
    "\n",
    "category_trend.plot(figsize=(12, 8))\n",
    "plt.title(\"Meal category Trend\")\n",
    "plt.xlabel(\"Weeks\")\n",
    "plt.ylabel(\"Orders\")\n",
    "plt.show()"
   ]
  },
  {
   "cell_type": "code",
   "execution_count": 95,
   "metadata": {},
   "outputs": [
    {
     "data": {
      "text/plain": [
       "<seaborn.axisgrid.FacetGrid at 0x221735ff850>"
      ]
     },
     "execution_count": 95,
     "metadata": {},
     "output_type": "execute_result"
    },
    {
     "data": {
      "image/png": "[encoded data removed]",
      "text/plain": [
       "<Figure size 1080x360 with 1 Axes>"
      ]
     },
     "metadata": {
      "needs_background": "light"
     },
     "output_type": "display_data"
    }
   ],
   "source": [
    "g = sns.catplot(\n",
    "    data=dataset, kind=\"bar\",\n",
    "    x=\"category\", y=\"num_orders\",\n",
    "     palette=\"dark\"\n",
    ")\n",
    "g.fig.set_figwidth(15)\n",
    "g.fig.set_figheight(5)\n",
    "g.set_axis_labels(\"\", \"No. of orders\")"
   ]
  },
  {
   "attachments": {},
   "cell_type": "markdown",
   "metadata": {},
   "source": [
    "Observations:\n",
    "\n",
    "1. Most popular category is Ricebowl followed by sandwich.\n",
    "\n",
    "2. Less popular category is Biriyani.\n",
    "\n",
    "3. After week 18, Salad became popular with customers.\n",
    "\n",
    "\n",
    "\n"
   ]
  },
  {
   "attachments": {},
   "cell_type": "markdown",
   "metadata": {},
   "source": [
    "Analyzing regional trend"
   ]
  },
  {
   "cell_type": "code",
   "execution_count": 84,
   "metadata": {},
   "outputs": [
    {
     "data": {
      "image/png": "[encoded data removed]",
      "text/plain": [
       "<Figure size 432x288 with 1 Axes>"
      ]
     },
     "metadata": {
      "needs_background": "light"
     },
     "output_type": "display_data"
    }
   ],
   "source": [
    "region_code_trend = dataset.pivot_table(index='week', columns='region_code', values='num_orders', \n",
    "                                        aggfunc='mean')\n",
    "\n",
    "region_code_trend.plot()\n",
    "plt.title(\"Region code Trend\")\n",
    "plt.xlabel(\"Weeks\")\n",
    "plt.ylabel(\"Orders\")\n",
    "\n",
    "plt.show()"
   ]
  },
  {
   "attachments": {},
   "cell_type": "markdown",
   "metadata": {},
   "source": [
    "Observation:  \n",
    "\n",
    "1. Region 35 has lowest number of orders.\n",
    "\n",
    "2. Fluctuations are there in all regions."
   ]
  },
  {
   "attachments": {},
   "cell_type": "markdown",
   "metadata": {},
   "source": [
    "Analyzing operating area trend"
   ]
  },
  {
   "cell_type": "code",
   "execution_count": 85,
   "metadata": {},
   "outputs": [
    {
     "data": {
      "image/png": "[encoded data removed]",
      "text/plain": [
       "<Figure size 432x288 with 1 Axes>"
      ]
     },
     "metadata": {
      "needs_background": "light"
     },
     "output_type": "display_data"
    }
   ],
   "source": [
    "op_area_trend = dataset.copy()\n",
    "op_area_trend['op_area'] = np.floor(op_area_trend['op_area'])\n",
    "op_area_trend = op_area_trend.pivot_table(index='week', columns='op_area', values='num_orders', \n",
    "                                          aggfunc='mean')\n",
    "\n",
    "op_area_trend.plot()\n",
    "plt.title(\"Operation Area Trend\")\n",
    "plt.xlabel(\"Weeks\")\n",
    "plt.ylabel(\"Orders\")\n",
    "plt.show()"
   ]
  },
  {
   "cell_type": "code",
   "execution_count": 86,
   "metadata": {},
   "outputs": [
    {
     "data": {
      "text/plain": [
       "<seaborn.axisgrid.FacetGrid at 0x2217342d670>"
      ]
     },
     "execution_count": 86,
     "metadata": {},
     "output_type": "execute_result"
    },
    {
     "data": {
      "image/png": "[encoded data removed]",
      "text/plain": [
       "<Figure size 1080x360 with 1 Axes>"
      ]
     },
     "metadata": {
      "needs_background": "light"
     },
     "output_type": "display_data"
    }
   ],
   "source": [
    "g = sns.catplot(\n",
    "    data=dataset, kind=\"bar\",\n",
    "    x=\"op_area\", y=\"num_orders\",\n",
    "     palette=\"dark\"\n",
    ")\n",
    "g.fig.set_figwidth(15)\n",
    "g.fig.set_figheight(5)\n",
    "g.set_axis_labels(\"\", \"No. of orders\")"
   ]
  },
  {
   "attachments": {},
   "cell_type": "markdown",
   "metadata": {},
   "source": [
    "dataset.op_area"
   ]
  },
  {
   "attachments": {},
   "cell_type": "markdown",
   "metadata": {},
   "source": [
    "Observations: \n",
    "\n",
    "1. Op_area 6.7 has highest number of orders."
   ]
  },
  {
   "cell_type": "markdown",
   "metadata": {},
   "source": []
  },
  {
   "attachments": {},
   "cell_type": "markdown",
   "metadata": {},
   "source": [
    "# *Actionable Insights obtained are as follows* .\n",
    "\n",
    "## Insight #1:\n",
    "\n",
    "Seasonality in Food Demand.\n",
    "\n",
    "The dataset shows clear seasonality in food demand, with higher demand in 2nd and 12th months and lower demand in 9th month. Also food demand is high in first and fourth month compared to that of second and third week.This insight can be used by restaurants and food delivery services to plan their menus and inventory accordingly.\n",
    "\n",
    "\n",
    "\n",
    "## Insight #2 :\n",
    "\n",
    "Promotion Impact.\n",
    "\n",
    "The second insight analyzes the impact of promotions on demand and calculates the average promotion impact, which can be used to design effective promotion strategies to increase customer loyalty and attract new customers.The promotional activities including homepage and emails inproves the order number.Promotion activity in homepage has more impact than emails on increase in number of orders.\n",
    "\n",
    "## Insights #3:\n",
    "\n",
    "Order Demand by Centers.\n",
    "\n",
    "Analyzing the demand for orders by centers helps to identify the centers that may be experiencing higher demand and may require additional resources.Type A center has more orders than Type B and Type C.\n",
    "\n",
    "\n",
    "## Insight # 4:\n",
    "\n",
    "Most Popular Cuisine.\n",
    "\n",
    "By analyzing the most popular cuisine among customers helps to optimize the menu and focus on popular items.\n",
    "\n",
    "  1. Most Popular cuisine is Italian.\n",
    "\n",
    "  2. There is fluctuation of order for Indian cuisine.\n",
    "\n",
    "  3. Less Popular cuisine is continental.\n",
    "\n",
    "## Insight #5 :\n",
    "\n",
    "Average Order Demand by Cuisine: \n",
    "\n",
    "Analyzing the average order demand for each cuisine helps to determine which cuisines are more profitable and which items may need to be reevaluated.\n",
    "\n",
    "  1. The average order demand for Italian cuisine is 359.35.\n",
    "\n",
    "  2. The average order demand for Thai cuisine is 276.42.\n",
    "\n",
    "  3. The average order demand for Indian cuisine is 229.03.\n",
    "\n",
    "  4. The average order demand for Continental cuisine is 164.55.\n",
    "\n",
    "\n",
    "\n"
   ]
  }
 ],
 "metadata": {
  "kernelspec": {
   "display_name": "Python 3.9.7 64-bit",
   "language": "python",
   "name": "python3"
  },
  "language_info": {
   "codemirror_mode": {
    "name": "ipython",
    "version": 3
   },
   "file_extension": ".py",
   "mimetype": "text/x-python",
   "name": "python",
   "nbconvert_exporter": "python",
   "pygments_lexer": "ipython3",
   "version": "3.9.7"
  },
  "orig_nbformat": 4,
  "vscode": {
   "interpreter": {
    "hash": "9586f42597c7f0bc73eb2dfac87218613aba80d6b555519692afd61dfdddc624"
   }
  }
 },
 "nbformat": 4,
 "nbformat_minor": 2
}
